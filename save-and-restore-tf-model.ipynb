{
 "cells": [
  {
   "cell_type": "markdown",
   "metadata": {},
   "source": [
    "## save and restore `tf.Variable`'s"
   ]
  },
  {
   "cell_type": "code",
   "execution_count": 1,
   "metadata": {},
   "outputs": [
    {
     "name": "stdout",
     "output_type": "stream",
     "text": [
      "\u001b[34mKSDownloadAction.NaMzed9wYS\u001b[m\u001b[m    \u001b[34mmnist5\u001b[m\u001b[m\r\n",
      "checkpoint                     model.ckpt.data-00000-of-00001\r\n",
      "\u001b[34mcom.apple.launchd.JMMiAKTZnT\u001b[m\u001b[m   model.ckpt.index\r\n",
      "\u001b[34mcom.apple.launchd.MfreScsdco\u001b[m\u001b[m   model.ckpt.meta\r\n",
      "\u001b[34mcom.apple.launchd.oE3iVVkw3N\u001b[m\u001b[m   \u001b[34mpowerlog\u001b[m\u001b[m\r\n",
      "\u001b[34mdata\u001b[m\u001b[m                           t10k-images-idx3-ubyte.gz\r\n",
      "\u001b[34mmnist\u001b[m\u001b[m                          t10k-labels-idx1-ubyte.gz\r\n",
      "\u001b[34mmnist2\u001b[m\u001b[m                         train-images-idx3-ubyte.gz\r\n",
      "\u001b[34mmnist3\u001b[m\u001b[m                         train-labels-idx1-ubyte.gz\r\n",
      "\u001b[34mmnist4\u001b[m\u001b[m\r\n"
     ]
    }
   ],
   "source": [
    "!ls /tmp"
   ]
  },
  {
   "cell_type": "code",
   "execution_count": 2,
   "metadata": {},
   "outputs": [
    {
     "name": "stdout",
     "output_type": "stream",
     "text": [
      "WARNING:tensorflow:From /Users/aaron/Documents/github/transform/venv/lib/python2.7/site-packages/tensorflow/python/framework/op_def_library.py:263: colocate_with (from tensorflow.python.framework.ops) is deprecated and will be removed in a future version.\n",
      "Instructions for updating:\n",
      "Colocations handled automatically by placer.\n",
      "Model saved in path: /tmp/model.ckpt\n"
     ]
    }
   ],
   "source": [
    "import tensorflow as tf\n",
    "\n",
    "# Create some variables.\n",
    "v1 = tf.get_variable(\"v1\", shape=[3], initializer = tf.zeros_initializer)\n",
    "v2 = tf.get_variable(\"v2\", shape=[5], initializer = tf.zeros_initializer)\n",
    "\n",
    "inc_v1 = v1.assign(v1+1)\n",
    "dec_v2 = v2.assign(v2-1)\n",
    "\n",
    "# Add an op to initialize the variables.\n",
    "init_op = tf.global_variables_initializer()\n",
    "\n",
    "# Add ops to save and restore all the variables.\n",
    "saver = tf.train.Saver()\n",
    "\n",
    "# Later, launch the model, initialize the variables, do some work, and save the\n",
    "# variables to disk.\n",
    "with tf.Session() as sess:\n",
    "  sess.run(init_op)\n",
    "  # Do some work with the model.\n",
    "  inc_v1.op.run()\n",
    "  dec_v2.op.run()\n",
    "  # Save the variables to disk.\n",
    "  save_path = saver.save(sess, \"/tmp/model.ckpt\")\n",
    "  print(\"Model saved in path: %s\" % save_path)"
   ]
  },
  {
   "cell_type": "code",
   "execution_count": 3,
   "metadata": {},
   "outputs": [
    {
     "name": "stdout",
     "output_type": "stream",
     "text": [
      "WARNING:tensorflow:From /Users/aaron/Documents/github/transform/venv/lib/python2.7/site-packages/tensorflow/python/training/saver.py:1266: checkpoint_exists (from tensorflow.python.training.checkpoint_management) is deprecated and will be removed in a future version.\n",
      "Instructions for updating:\n",
      "Use standard file APIs to check for files with this prefix.\n",
      "INFO:tensorflow:Restoring parameters from /tmp/model.ckpt\n",
      "Model restored.\n",
      "v1 : [1. 1. 1.]\n",
      "v2 : [-1. -1. -1. -1. -1.]\n"
     ]
    }
   ],
   "source": [
    "tf.reset_default_graph()\n",
    "\n",
    "# Create some variables.\n",
    "v1 = tf.get_variable(\"v1\", shape=[3])\n",
    "v2 = tf.get_variable(\"v2\", shape=[5])\n",
    "\n",
    "# Add ops to save and restore all the variables.\n",
    "saver = tf.train.Saver()\n",
    "\n",
    "# Later, launch the model, use the saver to restore variables from disk, and\n",
    "# do some work with the model.\n",
    "with tf.Session() as sess:\n",
    "  # Restore variables from disk.\n",
    "  saver.restore(sess, \"/tmp/model.ckpt\")\n",
    "  print(\"Model restored.\")\n",
    "  # Check the values of the variables\n",
    "  print(\"v1 : %s\" % v1.eval())\n",
    "  print(\"v2 : %s\" % v2.eval())"
   ]
  },
  {
   "cell_type": "code",
   "execution_count": 4,
   "metadata": {},
   "outputs": [
    {
     "name": "stdout",
     "output_type": "stream",
     "text": [
      "total 22712\r\n",
      "drwxrwxrwt  21 root   wheel      672 May 15 05:45 \u001b[30m\u001b[42m.\u001b[m\u001b[m\r\n",
      "drwxr-xr-x   6 root   wheel      192 Apr 26  2018 \u001b[34m..\u001b[m\u001b[m\r\n",
      "drwx------   2 root   wheel       64 May 15 05:43 \u001b[34mKSDownloadAction.NaMzed9wYS\u001b[m\u001b[m\r\n",
      "-rw-r--r--   1 aaron  wheel       87 May 15 05:45 checkpoint\r\n",
      "drwx------   3 aaron  wheel       96 Apr  2 05:46 \u001b[34mcom.apple.launchd.JMMiAKTZnT\u001b[m\u001b[m\r\n",
      "drwx------   3 aaron  wheel       96 Apr  2 05:46 \u001b[34mcom.apple.launchd.MfreScsdco\u001b[m\u001b[m\r\n",
      "drwx------   3 aaron  wheel       96 Apr  2 05:46 \u001b[34mcom.apple.launchd.oE3iVVkw3N\u001b[m\u001b[m\r\n",
      "drwxr-xr-x   3 aaron  wheel       96 Apr 23 06:11 \u001b[34mdata\u001b[m\u001b[m\r\n",
      "drwxr-xr-x   3 aaron  wheel       96 May 11 11:36 \u001b[34mmnist\u001b[m\u001b[m\r\n",
      "drwxr-xr-x   4 aaron  wheel      128 May 12 07:53 \u001b[34mmnist2\u001b[m\u001b[m\r\n",
      "drwxr-xr-x   2 aaron  wheel       64 May 12 07:55 \u001b[34mmnist3\u001b[m\u001b[m\r\n",
      "drwxr-xr-x   2 aaron  wheel       64 May 12 07:56 \u001b[34mmnist4\u001b[m\u001b[m\r\n",
      "drwxr-xr-x   2 aaron  wheel       64 May 12 07:57 \u001b[34mmnist5\u001b[m\u001b[m\r\n",
      "-rw-r--r--   1 aaron  wheel       32 May 15 05:45 model.ckpt.data-00000-of-00001\r\n",
      "-rw-r--r--   1 aaron  wheel      143 May 15 05:45 model.ckpt.index\r\n",
      "-rw-r--r--   1 aaron  wheel     4259 May 15 05:45 model.ckpt.meta\r\n",
      "drwxr-xr-x   2 root   wheel       64 May 15 05:25 \u001b[34mpowerlog\u001b[m\u001b[m\r\n",
      "-rw-r--r--   1 aaron  wheel  1648877 May 11 11:30 t10k-images-idx3-ubyte.gz\r\n",
      "-rw-r--r--   1 aaron  wheel     4542 May 11 11:30 t10k-labels-idx1-ubyte.gz\r\n",
      "-rw-r--r--   1 aaron  wheel  9912422 May 11 11:30 train-images-idx3-ubyte.gz\r\n",
      "-rw-r--r--   1 aaron  wheel    28881 May 11 11:30 train-labels-idx1-ubyte.gz\r\n"
     ]
    }
   ],
   "source": [
    "!ls -la /tmp/"
   ]
  },
  {
   "cell_type": "code",
   "execution_count": 5,
   "metadata": {},
   "outputs": [
    {
     "name": "stdout",
     "output_type": "stream",
     "text": [
      "INFO:tensorflow:Restoring parameters from /tmp/model.ckpt\n",
      "v1 : [0. 0. 0.]\n",
      "v2 : [-1. -1. -1. -1. -1.]\n"
     ]
    }
   ],
   "source": [
    "tf.reset_default_graph()\n",
    "# Create some variables.\n",
    "v1 = tf.get_variable(\"v1\", [3], initializer = tf.zeros_initializer)\n",
    "v2 = tf.get_variable(\"v2\", [5], initializer = tf.zeros_initializer)\n",
    "\n",
    "# Add ops to save and restore only `v2` using the name \"v2\"\n",
    "saver = tf.train.Saver({\"v2\": v2})\n",
    "\n",
    "# Use the saver object normally after that.\n",
    "with tf.Session() as sess:\n",
    "  # Initialize v1 since the saver will not.\n",
    "  v1.initializer.run()\n",
    "  saver.restore(sess, \"/tmp/model.ckpt\")\n",
    "\n",
    "  print(\"v1 : %s\" % v1.eval())\n",
    "  print(\"v2 : %s\" % v2.eval())"
   ]
  },
  {
   "cell_type": "code",
   "execution_count": 6,
   "metadata": {},
   "outputs": [
    {
     "name": "stdout",
     "output_type": "stream",
     "text": [
      "tensor_name:  v1\n",
      "[1. 1. 1.]\n",
      "tensor_name:  v2\n",
      "[-1. -1. -1. -1. -1.]\n",
      "tensor_name:  v1\n",
      "[1. 1. 1.]\n",
      "tensor_name:  v2\n",
      "[-1. -1. -1. -1. -1.]\n"
     ]
    }
   ],
   "source": [
    "# import the inspect_checkpoint library\n",
    "from tensorflow.python.tools import inspect_checkpoint as chkp\n",
    "\n",
    "# print all tensors in checkpoint file\n",
    "chkp.print_tensors_in_checkpoint_file(\"/tmp/model.ckpt\", tensor_name='', all_tensors=True)\n",
    "\n",
    "# tensor_name:  v1\n",
    "# [ 1.  1.  1.]\n",
    "# tensor_name:  v2\n",
    "# [-1. -1. -1. -1. -1.]\n",
    "\n",
    "# print only tensor v1 in checkpoint file\n",
    "chkp.print_tensors_in_checkpoint_file(\"/tmp/model.ckpt\", tensor_name='v1', all_tensors=False)\n",
    "\n",
    "# tensor_name:  v1\n",
    "# [ 1.  1.  1.]\n",
    "\n",
    "# print only tensor v2 in checkpoint file\n",
    "chkp.print_tensors_in_checkpoint_file(\"/tmp/model.ckpt\", tensor_name='v2', all_tensors=False)\n",
    "\n",
    "# tensor_name:  v2\n",
    "# [-1. -1. -1. -1. -1.]"
   ]
  },
  {
   "cell_type": "markdown",
   "metadata": {},
   "source": [
    "## save and restore `tf.Model` - [docs](https://www.tensorflow.org/guide/saved_model#save_and_restore_models)"
   ]
  },
  {
   "cell_type": "code",
   "execution_count": null,
   "metadata": {},
   "outputs": [],
   "source": []
  }
 ],
 "metadata": {
  "kernelspec": {
   "display_name": "Python 2",
   "language": "python",
   "name": "python2"
  },
  "language_info": {
   "codemirror_mode": {
    "name": "ipython",
    "version": 2
   },
   "file_extension": ".py",
   "mimetype": "text/x-python",
   "name": "python",
   "nbconvert_exporter": "python",
   "pygments_lexer": "ipython2",
   "version": "2.7.16"
  }
 },
 "nbformat": 4,
 "nbformat_minor": 2
}
