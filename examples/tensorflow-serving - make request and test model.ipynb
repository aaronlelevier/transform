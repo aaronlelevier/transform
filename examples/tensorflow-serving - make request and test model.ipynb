{
 "cells": [
  {
   "cell_type": "code",
   "execution_count": 1,
   "metadata": {},
   "outputs": [],
   "source": [
    "import base64\n",
    "\n",
    "import matplotlib.pyplot as plt\n",
    "import numpy as np\n",
    "import requests\n",
    "\n",
    "from aaron_rw_tfrecord import read_tfrecord\n",
    "from aaron_simple_example import *\n",
    "\n",
    "plt.show()\n",
    "\n",
    "tf.enable_eager_execution()\n"
   ]
  },
  {
   "cell_type": "code",
   "execution_count": 2,
   "metadata": {},
   "outputs": [
    {
     "name": "stdout",
     "output_type": "stream",
     "text": [
      "WARNING:tensorflow:From /Users/aaron/Documents/github/transform/venv/lib/python2.7/site-packages/tensorflow/python/data/ops/iterator_ops.py:532: colocate_with (from tensorflow.python.framework.ops) is deprecated and will be removed in a future version.\n",
      "Instructions for updating:\n",
      "Colocations handled automatically by placer.\n"
     ]
    },
    {
     "data": {
      "text/plain": [
       "(28, 28, 1)"
      ]
     },
     "execution_count": 2,
     "metadata": {},
     "output_type": "execute_result"
    }
   ],
   "source": [
    "infile = '/tmp/data/mnist/tmp0dGBYT/train_shuffled-00000-of-00001.gz'\n",
    "img = read_tfrecord(infile)\n",
    "img.shape"
   ]
  },
  {
   "cell_type": "code",
   "execution_count": 3,
   "metadata": {},
   "outputs": [
    {
     "data": {
      "image/png": "[encoded data removed]",
      "text/plain": [
       "<Figure size 432x288 with 1 Axes>"
      ]
     },
     "metadata": {
      "needs_background": "light"
     },
     "output_type": "display_data"
    }
   ],
   "source": [
    "def display_image(img):\n",
    "    \"\"\"\n",
    "    Coverts a 1-channel np.ndarray to 3-channel and displays it\n",
    "    using matplotlib\n",
    "    \"\"\"\n",
    "    assert isinstance(img, np.ndarray), type(img)\n",
    "\n",
    "    stacked_img = np.stack((np.squeeze(img), ) * 3, axis=-1)\n",
    "    assert stacked_img.shape == (28, 28, 3), stacked_img.shape\n",
    "\n",
    "    plt.imshow(stacked_img, cmap=plt.get_cmap('gray'))\n",
    "\n",
    "display_image(img)"
   ]
  },
  {
   "cell_type": "code",
   "execution_count": 4,
   "metadata": {},
   "outputs": [
    {
     "name": "stdout",
     "output_type": "stream",
     "text": [
      "Raw bitstring: �PNG\r\n",
      "\u001a\n",
      "\u0000\u0000 ... \u0000\u0000IEND�B`�\n"
     ]
    }
   ],
   "source": [
    "# Open and read image as bitstring\n",
    "image_infile = '/Users/aaron/Desktop/mnist-test-4.png'\n",
    "with open(image_infile, 'rb') as f:\n",
    "    input_image = f.read()\n",
    "\n",
    "print(\"Raw bitstring: \" + str(input_image[:10]) + \" ... \" + str(input_image[-10:]))"
   ]
  },
  {
   "cell_type": "code",
   "execution_count": 5,
   "metadata": {},
   "outputs": [
    {
     "name": "stdout",
     "output_type": "stream",
     "text": [
      "Base64 encoded string: iVBORw0KGg ... lFTkSuQmCC\n"
     ]
    }
   ],
   "source": [
    "# Encode image in b64\n",
    "encoded_input_string = base64.b64encode(input_image)\n",
    "input_string = encoded_input_string.decode(\"utf-8\")\n",
    "print(\"Base64 encoded string: \" + input_string[:10] + \" ... \" + input_string[-10:])"
   ]
  },
  {
   "cell_type": "code",
   "execution_count": 6,
   "metadata": {},
   "outputs": [
    {
     "data": {
      "text/plain": [
       "(<Response [501]>,\n",
       " '{ \"error\": \"Cast string to float is not supported\\\\n\\\\t [[{{node dnn/input_from_feature_columns/input_layer/image/ToFloat}}]]\" }')"
      ]
     },
     "execution_count": 6,
     "metadata": {},
     "output_type": "execute_result"
    }
   ],
   "source": [
    "url = 'http://localhost:8501/v1/models/mnist:predict'\n",
    "data ={\n",
    "      \"inputs\": input_string\n",
    "    }\n",
    "r = requests.post(url, json=data)\n",
    "r, r.content"
   ]
  },
  {
   "cell_type": "code",
   "execution_count": null,
   "metadata": {},
   "outputs": [],
   "source": []
  }
 ],
 "metadata": {
  "kernelspec": {
   "display_name": "Python 2",
   "language": "python",
   "name": "python2"
  },
  "language_info": {
   "codemirror_mode": {
    "name": "ipython",
    "version": 2
   },
   "file_extension": ".py",
   "mimetype": "text/x-python",
   "name": "python",
   "nbconvert_exporter": "python",
   "pygments_lexer": "ipython2",
   "version": "2.7.16"
  }
 },
 "nbformat": 4,
 "nbformat_minor": 2
}
