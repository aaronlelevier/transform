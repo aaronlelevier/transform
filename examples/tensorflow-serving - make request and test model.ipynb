{
 "cells": [
  {
   "cell_type": "code",
   "execution_count": 1,
   "metadata": {},
   "outputs": [],
   "source": [
    "import base64\n",
    "\n",
    "import matplotlib.pyplot as plt\n",
    "import numpy as np\n",
    "import requests\n",
    "\n",
    "from aaron_rw_tfrecord import read_tfrecord\n",
    "from aaron_simple_example import *\n",
    "\n",
    "plt.show()\n",
    "\n",
    "# tf.enable_eager_execution()\n"
   ]
  },
  {
   "cell_type": "code",
   "execution_count": 4,
   "metadata": {},
   "outputs": [
    {
     "data": {
      "text/plain": [
       "(28, 28, 1)"
      ]
     },
     "execution_count": 4,
     "metadata": {},
     "output_type": "execute_result"
    }
   ],
   "source": [
    "infile = '/tmp/data/mnist/tmpPivLUi/train_shuffled-00000-of-00001.gz'\n",
    "img = read_tfrecord(infile)\n",
    "img.shape"
   ]
  },
  {
   "cell_type": "code",
   "execution_count": 5,
   "metadata": {},
   "outputs": [
    {
     "data": {
      "image/png": "[encoded data removed]",
      "text/plain": [
       "<Figure size 432x288 with 1 Axes>"
      ]
     },
     "metadata": {
      "needs_background": "light"
     },
     "output_type": "display_data"
    }
   ],
   "source": [
    "def display_image(img):\n",
    "    \"\"\"\n",
    "    Coverts a 1-channel np.ndarray to 3-channel and displays it\n",
    "    using matplotlib\n",
    "    \"\"\"\n",
    "    assert isinstance(img, np.ndarray), type(img)\n",
    "\n",
    "    stacked_img = np.stack((np.squeeze(img), ) * 3, axis=-1)\n",
    "    assert stacked_img.shape == (28, 28, 3), stacked_img.shape\n",
    "\n",
    "    plt.imshow(stacked_img, cmap=plt.get_cmap('gray'))\n",
    "\n",
    "display_image(img)"
   ]
  },
  {
   "cell_type": "code",
   "execution_count": 6,
   "metadata": {},
   "outputs": [
    {
     "name": "stdout",
     "output_type": "stream",
     "text": [
      "Raw bitstring: �PNG\r\n",
      "\u001a\n",
      "\u0000\u0000 ... \u0000\u0000IEND�B`�\n"
     ]
    }
   ],
   "source": [
    "# Open and read image as bitstring\n",
    "image_infile = '/Users/aaron/Desktop/mnist-test-4.png'\n",
    "with open(image_infile, 'rb') as f:\n",
    "    input_image = f.read()\n",
    "\n",
    "print(\"Raw bitstring: \" + str(input_image[:10]) + \" ... \" + str(input_image[-10:]))"
   ]
  },
  {
   "cell_type": "code",
   "execution_count": 7,
   "metadata": {},
   "outputs": [
    {
     "name": "stdout",
     "output_type": "stream",
     "text": [
      "Base64 encoded string: iVBORw0KGg ... lFTkSuQmCC\n"
     ]
    }
   ],
   "source": [
    "# Encode image in b64\n",
    "encoded_input_string = base64.b64encode(input_image)\n",
    "input_string = encoded_input_string.decode(\"utf-8\")\n",
    "print(\"Base64 encoded string: \" + input_string[:10] + \" ... \" + input_string[-10:])"
   ]
  },
  {
   "cell_type": "code",
   "execution_count": 8,
   "metadata": {
    "scrolled": true
   },
   "outputs": [
    {
     "name": "stdout",
     "output_type": "stream",
     "text": [
      "ConnectionError\n"
     ]
    }
   ],
   "source": [
    "try:\n",
    "    url = 'http://127.0.0.1:8500/v1/models/mnist:predict'\n",
    "    data ={\n",
    "          \"inputs\": input_string\n",
    "        }\n",
    "    r = requests.post(url, json=data)\n",
    "    r, r.content\n",
    "except requests.exceptions.ConnectionError:\n",
    "    print('ConnectionError')"
   ]
  },
  {
   "cell_type": "code",
   "execution_count": 9,
   "metadata": {},
   "outputs": [],
   "source": [
    "# inspect img"
   ]
  },
  {
   "cell_type": "code",
   "execution_count": 10,
   "metadata": {},
   "outputs": [
    {
     "data": {
      "text/plain": [
       "(28, 28, 1)"
      ]
     },
     "execution_count": 10,
     "metadata": {},
     "output_type": "execute_result"
    }
   ],
   "source": [
    "img.shape"
   ]
  },
  {
   "cell_type": "code",
   "execution_count": 11,
   "metadata": {},
   "outputs": [
    {
     "data": {
      "text/plain": [
       "numpy.ndarray"
      ]
     },
     "execution_count": 11,
     "metadata": {},
     "output_type": "execute_result"
    }
   ],
   "source": [
    "type(img)"
   ]
  },
  {
   "cell_type": "code",
   "execution_count": 12,
   "metadata": {},
   "outputs": [
    {
     "data": {
      "text/plain": [
       "(1, 784)"
      ]
     },
     "execution_count": 12,
     "metadata": {},
     "output_type": "execute_result"
    }
   ],
   "source": [
    "img_784 = np.reshape(img, (1, 784))\n",
    "img_784.shape"
   ]
  },
  {
   "cell_type": "code",
   "execution_count": 13,
   "metadata": {},
   "outputs": [],
   "source": [
    "# png to ndarray"
   ]
  },
  {
   "cell_type": "code",
   "execution_count": 14,
   "metadata": {},
   "outputs": [
    {
     "name": "stdout",
     "output_type": "stream",
     "text": [
      "(252, 255, 4)\n"
     ]
    }
   ],
   "source": [
    "import imageio\n",
    "\n",
    "im = imageio.imread(image_infile)\n",
    "print(im.shape)"
   ]
  },
  {
   "cell_type": "code",
   "execution_count": 15,
   "metadata": {},
   "outputs": [],
   "source": [
    "import matplotlib\n",
    "\n",
    "stacked_img = np.stack((np.squeeze(img), ) * 3, axis=-1)\n",
    "\n",
    "image_outfile = 'mnist-4-outfile.png'\n",
    "matplotlib.image.imsave(image_outfile, stacked_img)"
   ]
  },
  {
   "cell_type": "code",
   "execution_count": 16,
   "metadata": {},
   "outputs": [
    {
     "name": "stdout",
     "output_type": "stream",
     "text": [
      "/Users/aaron/Documents/github/transform/examples\r\n"
     ]
    }
   ],
   "source": [
    "!pwd"
   ]
  },
  {
   "cell_type": "code",
   "execution_count": 17,
   "metadata": {},
   "outputs": [
    {
     "name": "stdout",
     "output_type": "stream",
     "text": [
      "mnist-4-outfile.png\r\n"
     ]
    }
   ],
   "source": [
    "!ls *.png"
   ]
  },
  {
   "cell_type": "code",
   "execution_count": 18,
   "metadata": {},
   "outputs": [],
   "source": [
    "# png to ndarray"
   ]
  },
  {
   "cell_type": "code",
   "execution_count": 19,
   "metadata": {},
   "outputs": [
    {
     "name": "stdout",
     "output_type": "stream",
     "text": [
      "(28, 28, 4)\n"
     ]
    }
   ],
   "source": [
    "im = imageio.imread(image_outfile)\n",
    "print(im.shape)"
   ]
  },
  {
   "cell_type": "code",
   "execution_count": 20,
   "metadata": {},
   "outputs": [
    {
     "data": {
      "text/plain": [
       "<matplotlib.image.AxesImage at 0x102674a50>"
      ]
     },
     "execution_count": 20,
     "metadata": {},
     "output_type": "execute_result"
    },
    {
     "data": {
      "image/png": "[encoded data removed]",
      "text/plain": [
       "<Figure size 432x288 with 1 Axes>"
      ]
     },
     "metadata": {
      "needs_background": "light"
     },
     "output_type": "display_data"
    }
   ],
   "source": [
    "plt.imshow(im, cmap=plt.get_cmap('gray'))"
   ]
  },
  {
   "cell_type": "code",
   "execution_count": 21,
   "metadata": {},
   "outputs": [],
   "source": [
    "# remove 4th dimension which would be alpha"
   ]
  },
  {
   "cell_type": "code",
   "execution_count": 22,
   "metadata": {},
   "outputs": [
    {
     "data": {
      "text/plain": [
       "(28, 28, 3)"
      ]
     },
     "execution_count": 22,
     "metadata": {},
     "output_type": "execute_result"
    }
   ],
   "source": [
    "# converts shape (28, 28, 4) to (28, 28, 3)\n",
    "im_w_no_alpha_dimen = im[:,:,:3]\n",
    "im_w_no_alpha_dimen.shape"
   ]
  },
  {
   "cell_type": "code",
   "execution_count": 23,
   "metadata": {},
   "outputs": [
    {
     "data": {
      "text/plain": [
       "<matplotlib.image.AxesImage at 0x120f5d910>"
      ]
     },
     "execution_count": 23,
     "metadata": {},
     "output_type": "execute_result"
    },
    {
     "data": {
      "image/png": "[encoded data removed]",
      "text/plain": [
       "<Figure size 432x288 with 1 Axes>"
      ]
     },
     "metadata": {
      "needs_background": "light"
     },
     "output_type": "display_data"
    }
   ],
   "source": [
    "plt.imshow(im_w_no_alpha_dimen, cmap=plt.get_cmap('gray'))"
   ]
  },
  {
   "cell_type": "code",
   "execution_count": 24,
   "metadata": {},
   "outputs": [],
   "source": [
    "# convert back to 1 channel"
   ]
  },
  {
   "cell_type": "code",
   "execution_count": 25,
   "metadata": {},
   "outputs": [
    {
     "data": {
      "text/plain": [
       "(28, 28)"
      ]
     },
     "execution_count": 25,
     "metadata": {},
     "output_type": "execute_result"
    }
   ],
   "source": [
    "im_bw = im_w_no_alpha_dimen[:,:,0]\n",
    "im_bw.shape"
   ]
  },
  {
   "cell_type": "code",
   "execution_count": 26,
   "metadata": {},
   "outputs": [
    {
     "data": {
      "text/plain": [
       "(28, 28, 3)"
      ]
     },
     "execution_count": 26,
     "metadata": {},
     "output_type": "execute_result"
    }
   ],
   "source": [
    "restacked_im = np.stack((np.squeeze(im_bw), ) * 3, axis=-1)\n",
    "restacked_im.shape"
   ]
  },
  {
   "cell_type": "code",
   "execution_count": 27,
   "metadata": {},
   "outputs": [
    {
     "data": {
      "text/plain": [
       "<matplotlib.image.AxesImage at 0x120facfd0>"
      ]
     },
     "execution_count": 27,
     "metadata": {},
     "output_type": "execute_result"
    },
    {
     "data": {
      "image/png": "[encoded data removed]",
      "text/plain": [
       "<Figure size 432x288 with 1 Axes>"
      ]
     },
     "metadata": {
      "needs_background": "light"
     },
     "output_type": "display_data"
    }
   ],
   "source": [
    "plt.imshow(restacked_im, cmap=plt.get_cmap('gray'))"
   ]
  },
  {
   "cell_type": "code",
   "execution_count": 28,
   "metadata": {},
   "outputs": [
    {
     "data": {
      "text/plain": [
       "(1, 784)"
      ]
     },
     "execution_count": 28,
     "metadata": {},
     "output_type": "execute_result"
    }
   ],
   "source": [
    "im_bw_flat = np.reshape(im_bw, (1, -1))\n",
    "im_bw_flat.shape"
   ]
  },
  {
   "cell_type": "code",
   "execution_count": 29,
   "metadata": {},
   "outputs": [
    {
     "data": {
      "text/plain": [
       "dtype('float64')"
      ]
     },
     "execution_count": 29,
     "metadata": {},
     "output_type": "execute_result"
    }
   ],
   "source": [
    "im_bw_flat.astype('float').dtype"
   ]
  },
  {
   "cell_type": "code",
   "execution_count": 30,
   "metadata": {},
   "outputs": [],
   "source": [
    "# call tensorflow-serving"
   ]
  },
  {
   "cell_type": "code",
   "execution_count": 31,
   "metadata": {},
   "outputs": [],
   "source": [
    "import sys\n",
    "import threading\n",
    "\n",
    "import grpc\n",
    "import tensorflow as tf\n",
    "import imageio\n",
    "import numpy\n",
    "\n",
    "from tensorflow_serving.apis import predict_pb2\n",
    "from tensorflow_serving.apis import prediction_service_pb2_grpc"
   ]
  },
  {
   "cell_type": "code",
   "execution_count": 32,
   "metadata": {},
   "outputs": [],
   "source": [
    "with open('mnist-4-outfile.png', 'rb') as f:\n",
    "    image_byte_str = f.read()"
   ]
  },
  {
   "cell_type": "code",
   "execution_count": 33,
   "metadata": {},
   "outputs": [],
   "source": [
    "class _ResultCounter(object):\n",
    "  \"\"\"Counter for the prediction results.\"\"\"\n",
    "\n",
    "  def __init__(self, num_tests, concurrency):\n",
    "    self._num_tests = num_tests\n",
    "    self._concurrency = concurrency\n",
    "    self._error = 0\n",
    "    self._done = 0\n",
    "    self._active = 0\n",
    "    self._condition = threading.Condition()\n",
    "\n",
    "  def inc_error(self):\n",
    "    with self._condition:\n",
    "      self._error += 1\n",
    "\n",
    "  def inc_done(self):\n",
    "    with self._condition:\n",
    "      self._done += 1\n",
    "      self._condition.notify()\n",
    "\n",
    "  def dec_active(self):\n",
    "    with self._condition:\n",
    "      self._active -= 1\n",
    "      self._condition.notify()\n",
    "\n",
    "  def get_error_rate(self):\n",
    "    with self._condition:\n",
    "      while self._done != self._num_tests:\n",
    "        self._condition.wait()\n",
    "      return self._error / float(self._num_tests)\n",
    "\n",
    "  def throttle(self):\n",
    "    with self._condition:\n",
    "      while self._active == self._concurrency:\n",
    "        self._condition.wait()\n",
    "      self._active += 1\n",
    "\n",
    "\n",
    "def _create_rpc_callback(label, result_counter):\n",
    "  \"\"\"Creates RPC callback function.\n",
    "\n",
    "  Args:\n",
    "    label: The correct label for the predicted example.\n",
    "    result_counter: Counter for the prediction result.\n",
    "  Returns:\n",
    "    The callback function.\n",
    "  \"\"\"\n",
    "  def _callback(result_future):\n",
    "    \"\"\"Callback function.\n",
    "\n",
    "    Calculates the statistics for the prediction result.\n",
    "\n",
    "    Args:\n",
    "      result_future: Result future of the RPC.\n",
    "    \"\"\"\n",
    "    exception = result_future.exception()\n",
    "    if exception:\n",
    "      result_counter.inc_error()\n",
    "      print(exception)\n",
    "    else:\n",
    "      sys.stdout.write('.')\n",
    "      sys.stdout.flush()\n",
    "      response = numpy.array(\n",
    "          result_future.result().outputs['scores'].float_val)\n",
    "      prediction = numpy.argmax(response)\n",
    "      print('label:', label, '; prediction:', prediction)\n",
    "      if label != prediction:\n",
    "        result_counter.inc_error()\n",
    "    result_counter.inc_done()\n",
    "    result_counter.dec_active()\n",
    "  return _callback"
   ]
  },
  {
   "cell_type": "code",
   "execution_count": 39,
   "metadata": {},
   "outputs": [],
   "source": [
    "hostport = 'http://localhost:8501'\n",
    "work_dir = '/tmp'\n",
    "concurrency = 1\n",
    "num_tests = 1"
   ]
  },
  {
   "cell_type": "code",
   "execution_count": 41,
   "metadata": {},
   "outputs": [
    {
     "name": "stdout",
     "output_type": "stream",
     "text": [
      "<_Rendezvous of RPC that terminated with:\n",
      "\tstatus = StatusCode.DEADLINE_EXCEEDED\n",
      "\tdetails = \"Deadline Exceeded\"\n",
      "\tdebug_error_string = \"{\"created\":\"@1557664926.518401000\",\"description\":\"Deadline Exceeded\",\"file\":\"src/core/ext/filters/deadline/deadline_filter.cc\",\"file_line\":69,\"grpc_status\":4}\"\n",
      ">\n"
     ]
    },
    {
     "data": {
      "text/plain": [
       "1.0"
      ]
     },
     "execution_count": 41,
     "metadata": {},
     "output_type": "execute_result"
    }
   ],
   "source": [
    "channel = grpc.insecure_channel(hostport)\n",
    "stub = prediction_service_pb2_grpc.PredictionServiceStub(channel)\n",
    "result_counter = _ResultCounter(num_tests, concurrency)\n",
    "\n",
    "request = predict_pb2.PredictRequest()\n",
    "request.model_spec.name = 'mnist'\n",
    "request.model_spec.signature_name = 'predict_images'\n",
    "### Aaron - start\n",
    "# run for local image file instead\n",
    "infile = '/Users/aaron/Documents/github/transform/examples/mnist-4-outfile.png'\n",
    "# shape (28, 28, 4)\n",
    "im = imageio.imread(infile)\n",
    "# convert to black-n-white\n",
    "im_bw = im[:,:,0]\n",
    "# flatten to (1, 784); same shape as above 'image'\n",
    "image = np.reshape(im_bw, (1, -1)).astype('float32')\n",
    "label = np.array([4])\n",
    "### Aaron - end\n",
    "request.inputs['images'].CopyFrom(\n",
    "  tf.contrib.util.make_tensor_proto(image[0], shape=[1, image[0].size]))\n",
    "result_counter.throttle()\n",
    "result_future = stub.Predict.future(request, 5.0)  # 5 seconds\n",
    "\n",
    "result_future.add_done_callback(\n",
    "  _create_rpc_callback(label[0], result_counter))\n",
    "\n",
    "result_counter.get_error_rate()"
   ]
  },
  {
   "cell_type": "code",
   "execution_count": 63,
   "metadata": {},
   "outputs": [],
   "source": [
    "import requests\n",
    "import base64\n",
    "import numpy as np"
   ]
  },
  {
   "cell_type": "code",
   "execution_count": 73,
   "metadata": {},
   "outputs": [
    {
     "data": {
      "text/plain": [
       "(28, 28, 1)"
      ]
     },
     "execution_count": 73,
     "metadata": {},
     "output_type": "execute_result"
    }
   ],
   "source": [
    "np.random.rand(28, 28, 1).shape"
   ]
  },
  {
   "cell_type": "code",
   "execution_count": 90,
   "metadata": {},
   "outputs": [],
   "source": [
    "image_str = np.random.rand(28, 28, 1).tostring()"
   ]
  },
  {
   "cell_type": "code",
   "execution_count": 92,
   "metadata": {},
   "outputs": [
    {
     "name": "stderr",
     "output_type": "stream",
     "text": [
      "/Users/aaron/Documents/github/transform/venv/lib/python2.7/site-packages/ipykernel_launcher.py:1: DeprecationWarning: The binary mode of fromstring is deprecated, as it behaves surprisingly on unicode inputs. Use frombuffer instead\n",
      "  \"\"\"Entry point for launching an IPython kernel.\n"
     ]
    },
    {
     "data": {
      "text/plain": [
       "array([0.62170513, 0.34284981, 0.90642071, 0.78100471, 0.18722475,\n",
       "       0.10107417, 0.82394217, 0.98449612, 0.05698574, 0.36953464,\n",
       "       0.33977678, 0.36719841, 0.28005228, 0.85472082, 0.17228356,\n",
       "       0.09118085, 0.781719  , 0.17363461, 0.65506912, 0.3346586 ,\n",
       "       0.57400078, 0.55890156, 0.55449763, 0.72592307, 0.82197681,\n",
       "       0.74979035, 0.95517511, 0.98249387, 0.16580915, 0.38902153,\n",
       "       0.12858971, 0.80638853, 0.40964061, 0.40843555, 0.25209315,\n",
       "       0.57310826, 0.40498463, 0.03466209, 0.86068483, 0.36223366,\n",
       "       0.13076451, 0.63462697, 0.33201279, 0.86871322, 0.60368755,\n",
       "       0.41196492, 0.71597813, 0.29270941, 0.87685134, 0.64870988,\n",
       "       0.3279195 , 0.77509614, 0.09892832, 0.26660715, 0.1497131 ,\n",
       "       0.65104839, 0.77582197, 0.4958656 , 0.9623336 , 0.94480653,\n",
       "       0.79024715, 0.79851452, 0.58316389, 0.40058447, 0.98336995,\n",
       "       0.9048086 , 0.35053384, 0.62651253, 0.76488331, 0.48026205,\n",
       "       0.59021403, 0.9626609 , 0.47318337, 0.70747839, 0.97183857,\n",
       "       0.52688109, 0.80218263, 0.57500695, 0.52518842, 0.02905166,\n",
       "       0.13808475, 0.6300628 , 0.53937688, 0.36569219, 0.42462954,\n",
       "       0.91788103, 0.87633259, 0.07840077, 0.27079962, 0.21462238,\n",
       "       0.66750219, 0.13796826, 0.81455331, 0.84955268, 0.68880479,\n",
       "       0.22482975, 0.70684858, 0.24455703, 0.60905787, 0.55022827,\n",
       "       0.02427936, 0.40767045, 0.41075677, 0.03648989, 0.12728475,\n",
       "       0.79447707, 0.8232099 , 0.6870698 , 0.63100534, 0.96547418,\n",
       "       0.28425209, 0.63774068, 0.43857612, 0.63290888, 0.34044721,\n",
       "       0.2990379 , 0.74140052, 0.43034139, 0.41792317, 0.68288114,\n",
       "       0.5059718 , 0.85209533, 0.55497799, 0.57352182, 0.55810469,\n",
       "       0.72389285, 0.67526069, 0.80818102, 0.64954616, 0.93994718,\n",
       "       0.29310119, 0.3620604 , 0.32862415, 0.01363032, 0.58697363,\n",
       "       0.85086274, 0.3772321 , 0.50767733, 0.17393616, 0.67476879,\n",
       "       0.80127182, 0.51058153, 0.44224538, 0.52485777, 0.32215902,\n",
       "       0.35714812, 0.48584456, 0.75181851, 0.93377317, 0.75359415,\n",
       "       0.21351003, 0.87555533, 0.36112072, 0.87757466, 0.72910519,\n",
       "       0.69687449, 0.94300511, 0.08806468, 0.11041343, 0.60552353,\n",
       "       0.42180555, 0.4332595 , 0.87846146, 0.41742633, 0.26536854,\n",
       "       0.27698913, 0.35364345, 0.78781843, 0.35190614, 0.9558845 ,\n",
       "       0.12863264, 0.48327556, 0.84134003, 0.96268734, 0.76165737,\n",
       "       0.32055028, 0.24418881, 0.79474482, 0.48390138, 0.45841968,\n",
       "       0.52355436, 0.16375626, 0.71603368, 0.84602474, 0.78536008,\n",
       "       0.91891757, 0.55326328, 0.30122678, 0.17620057, 0.8544704 ,\n",
       "       0.92291074, 0.37581398, 0.61219344, 0.16281727, 0.4571008 ,\n",
       "       0.8519703 , 0.40990061, 0.20156964, 0.90465679, 0.61119873,\n",
       "       0.95463448, 0.33759329, 0.59549504, 0.62007438, 0.91988734,\n",
       "       0.12667298, 0.97740261, 0.67488451, 0.23656234, 0.75580325,\n",
       "       0.63165754, 0.2212938 , 0.21690801, 0.94440811, 0.41893928,\n",
       "       0.62283628, 0.68679069, 0.19146534, 0.83706049, 0.05987324,\n",
       "       0.77358646, 0.2962369 , 0.41850934, 0.13719313, 0.95194488,\n",
       "       0.97554163, 0.85030859, 0.69040895, 0.91457135, 0.27674871,\n",
       "       0.57056688, 0.56205692, 0.11793683, 0.9041716 , 0.63531535,\n",
       "       0.59351196, 0.53788973, 0.16512897, 0.26128284, 0.64125072,\n",
       "       0.25554748, 0.6588517 , 0.17501085, 0.64079917, 0.76900942,\n",
       "       0.93433697, 0.44579475, 0.26968154, 0.60784897, 0.69328016,\n",
       "       0.8680838 , 0.83654193, 0.0594417 , 0.07301236, 0.81551514,\n",
       "       0.63232808, 0.62141245, 0.51694016, 0.56488207, 0.8148398 ,\n",
       "       0.83833129, 0.47262623, 0.99191203, 0.58962771, 0.93445215,\n",
       "       0.83765156, 0.96266132, 0.6302309 , 0.50488943, 0.24530407,\n",
       "       0.07495669, 0.92668227, 0.59591585, 0.48992239, 0.37650163,\n",
       "       0.3021867 , 0.51990549, 0.34616824, 0.32993642, 0.58323632,\n",
       "       0.54525652, 0.76215855, 0.86506911, 0.21327297, 0.26148841,\n",
       "       0.73918174, 0.00274459, 0.85334014, 0.52858155, 0.98466969,\n",
       "       0.26044903, 0.68681119, 0.7219302 , 0.4379229 , 0.02913848,\n",
       "       0.81426358, 0.98852516, 0.92452087, 0.11342466, 0.63788536,\n",
       "       0.77761861, 0.48699372, 0.41272606, 0.6190173 , 0.99759821,\n",
       "       0.4864641 , 0.45299759, 0.98668987, 0.29753883, 0.30931865,\n",
       "       0.45177128, 0.94357987, 0.33565091, 0.23726346, 0.53765202,\n",
       "       0.48409783, 0.40197323, 0.55797612, 0.14546501, 0.60487536,\n",
       "       0.77213054, 0.23317812, 0.38629403, 0.2423403 , 0.97071696,\n",
       "       0.95661317, 0.33089682, 0.04510921, 0.76218087, 0.32154096,\n",
       "       0.80842215, 0.81446398, 0.53413422, 0.66121891, 0.93090317,\n",
       "       0.64855241, 0.21838666, 0.72714181, 0.57778972, 0.10939734,\n",
       "       0.01473336, 0.5625291 , 0.86131792, 0.11791066, 0.98413677,\n",
       "       0.95339499, 0.00775409, 0.95998407, 0.98544662, 0.89476025,\n",
       "       0.37311558, 0.92396928, 0.02850503, 0.10112962, 0.15218383,\n",
       "       0.0029523 , 0.80194782, 0.47027521, 0.47301458, 0.53325128,\n",
       "       0.97481132, 0.53304019, 0.23048672, 0.06405137, 0.44524078,\n",
       "       0.91964211, 0.13250904, 0.19461726, 0.19047694, 0.3632655 ,\n",
       "       0.63775061, 0.13937375, 0.74498715, 0.19781723, 0.83915623,\n",
       "       0.55693969, 0.10233978, 0.31293434, 0.31259072, 0.52745056,\n",
       "       0.80263066, 0.15279031, 0.48650603, 0.39578965, 0.79608892,\n",
       "       0.54715413, 0.95695767, 0.39704717, 0.30782497, 0.52937697,\n",
       "       0.94729   , 0.35649471, 0.97713885, 0.95148651, 0.48703091,\n",
       "       0.92606092, 0.34589197, 0.29821481, 0.72715764, 0.04369274,\n",
       "       0.48190799, 0.83933382, 0.13953277, 0.48980624, 0.33360684,\n",
       "       0.85829736, 0.58888139, 0.34010943, 0.82634878, 0.25682597,\n",
       "       0.97964415, 0.71549692, 0.70696371, 0.48294037, 0.94732429,\n",
       "       0.8254667 , 0.59596405, 0.74096168, 0.526204  , 0.5346445 ,\n",
       "       0.96064393, 0.76939339, 0.36764543, 0.76899433, 0.18610139,\n",
       "       0.3436211 , 0.37554017, 0.05594614, 0.36427065, 0.66435483,\n",
       "       0.71084278, 0.86001344, 0.13915219, 0.98651519, 0.60467243,\n",
       "       0.65325528, 0.50529536, 0.99643085, 0.4061224 , 0.45331838,\n",
       "       0.96134984, 0.75094773, 0.48648511, 0.59378729, 0.91913421,\n",
       "       0.74956752, 0.80234023, 0.06764103, 0.56572618, 0.88737702,\n",
       "       0.51205228, 0.7662865 , 0.79472973, 0.30972386, 0.66506245,\n",
       "       0.5862048 , 0.15027096, 0.09617582, 0.50297154, 0.75706862,\n",
       "       0.37847361, 0.73975921, 0.50744794, 0.62381617, 0.82670073,\n",
       "       0.90402349, 0.73500653, 0.67000034, 0.15878854, 0.11662805,\n",
       "       0.6544408 , 0.19816105, 0.7719937 , 0.6062783 , 0.50755888,\n",
       "       0.01826341, 0.56258544, 0.21336714, 0.47753713, 0.74653815,\n",
       "       0.54770675, 0.12156927, 0.15635993, 0.83663839, 0.89932005,\n",
       "       0.97387412, 0.5547254 , 0.17477876, 0.08458697, 0.42358666,\n",
       "       0.97208873, 0.29363197, 0.47921096, 0.12335606, 0.74173904,\n",
       "       0.42481442, 0.52399404, 0.31617847, 0.80017432, 0.35683014,\n",
       "       0.57781252, 0.02206674, 0.20549878, 0.30215778, 0.26636811,\n",
       "       0.50655983, 0.24187615, 0.33135523, 0.65809399, 0.90626697,\n",
       "       0.30036043, 0.80116091, 0.3485547 , 0.29095553, 0.26533439,\n",
       "       0.95169348, 0.15775971, 0.65096231, 0.17048449, 0.86874111,\n",
       "       0.20994489, 0.80999736, 0.1370614 , 0.66484686, 0.00949212,\n",
       "       0.6853527 , 0.16623063, 0.45847818, 0.34081713, 0.22349663,\n",
       "       0.27036491, 0.65307073, 0.33909661, 0.60062048, 0.8331317 ,\n",
       "       0.64988343, 0.16183886, 0.44404875, 0.81468894, 0.78218594,\n",
       "       0.83790845, 0.60440523, 0.35569105, 0.49343281, 0.43186058,\n",
       "       0.40019076, 0.16781084, 0.97609954, 0.53610637, 0.40869108,\n",
       "       0.68957466, 0.15981705, 0.86977069, 0.61237824, 0.35774172,\n",
       "       0.45336797, 0.72725059, 0.24040574, 0.66835646, 0.28285752,\n",
       "       0.93210289, 0.88653365, 0.96354936, 0.13105722, 0.71391314,\n",
       "       0.94174123, 0.55465557, 0.04956454, 0.82614515, 0.36999105,\n",
       "       0.34468478, 0.14002862, 0.96036604, 0.39600055, 0.48671893,\n",
       "       0.54836864, 0.06264467, 0.99754868, 0.01430729, 0.42671671,\n",
       "       0.44697217, 0.41996484, 0.52729744, 0.86987101, 0.20619579,\n",
       "       0.86728677, 0.41425183, 0.58435513, 0.04224201, 0.23356165,\n",
       "       0.22317455, 0.65535134, 0.16491047, 0.09453391, 0.02125756,\n",
       "       0.84015819, 0.29677811, 0.50877102, 0.2273673 , 0.49056518,\n",
       "       0.00538218, 0.15022749, 0.84480602, 0.14741186, 0.21180634,\n",
       "       0.91299192, 0.33674837, 0.80296884, 0.27721407, 0.47274075,\n",
       "       0.525602  , 0.73893226, 0.8482558 , 0.09047474, 0.12477052,\n",
       "       0.74311669, 0.46398711, 0.56182271, 0.88438956, 0.08526881,\n",
       "       0.17835315, 0.02580127, 0.32481971, 0.44702892, 0.09234715,\n",
       "       0.22295371, 0.27726837, 0.38227369, 0.82894129, 0.20686501,\n",
       "       0.38820692, 0.91631115, 0.35723368, 0.27461956, 0.40320991,\n",
       "       0.39325374, 0.21075653, 0.77216515, 0.26291398, 0.68460423,\n",
       "       0.22798903, 0.37012156, 0.39790181, 0.66530848, 0.25327823,\n",
       "       0.5736753 , 0.77969216, 0.2672079 , 0.50196693, 0.71282788,\n",
       "       0.95429933, 0.49641587, 0.87093908, 0.85360045, 0.47848497,\n",
       "       0.81600932, 0.79547018, 0.00779636, 0.4643132 , 0.50306492,\n",
       "       0.62460584, 0.30435695, 0.66283239, 0.78319533, 0.77378696,\n",
       "       0.15637397, 0.32035146, 0.17894993, 0.24343174, 0.23873181,\n",
       "       0.947185  , 0.74101153, 0.63184837, 0.00519431, 0.56640561,\n",
       "       0.74827415, 0.78353444, 0.27350249, 0.93069951, 0.360703  ,\n",
       "       0.33660624, 0.28515219, 0.45762811, 0.06164229, 0.50462728,\n",
       "       0.23520791, 0.99761322, 0.51892247, 0.9649837 , 0.16396435,\n",
       "       0.62322095, 0.24994704, 0.93657004, 0.59642396, 0.65951292,\n",
       "       0.10822582, 0.52173832, 0.38403878, 0.48004322, 0.34042657,\n",
       "       0.77347117, 0.36862425, 0.09895071, 0.42295936, 0.75636579,\n",
       "       0.63488187, 0.36327637, 0.56059553, 0.34023271, 0.81504236,\n",
       "       0.84151692, 0.30821523, 0.82139007, 0.81842801, 0.02767795,\n",
       "       0.90912535, 0.01388395, 0.77809393, 0.51667792, 0.65999532,\n",
       "       0.23302222, 0.39305838, 0.55626612, 0.98715871, 0.30496376,\n",
       "       0.72121773, 0.47985386, 0.74370076, 0.03443555, 0.06490282,\n",
       "       0.1579134 , 0.62433464, 0.1986864 , 0.58437425, 0.86548988,\n",
       "       0.57069   , 0.65550415, 0.91610591, 0.71494425, 0.46873056,\n",
       "       0.36349078, 0.74575564, 0.35318788, 0.01301444, 0.8843134 ,\n",
       "       0.29163868, 0.51303608, 0.57810412, 0.97181647, 0.91205038,\n",
       "       0.6392341 , 0.18926531, 0.43463715, 0.52865386, 0.43824607,\n",
       "       0.98648631, 0.67810368, 0.43069158, 0.08466722, 0.86250533,\n",
       "       0.64972772, 0.16329818, 0.15139401, 0.30735791, 0.86067385,\n",
       "       0.89482635, 0.77201538, 0.05508116, 0.22109812, 0.19734636,\n",
       "       0.06549842, 0.84953502, 0.47219868, 0.77383764, 0.33858505,\n",
       "       0.73141245, 0.42691566, 0.51102209, 0.74068445, 0.12331939,\n",
       "       0.41751311, 0.77551696, 0.22834082, 0.64180811])"
      ]
     },
     "execution_count": 92,
     "metadata": {},
     "output_type": "execute_result"
    }
   ],
   "source": [
    "np.fromstring(image_str)"
   ]
  },
  {
   "cell_type": "code",
   "execution_count": 94,
   "metadata": {
    "scrolled": true
   },
   "outputs": [
    {
     "ename": "TypeError",
     "evalue": "op needs to be an Operation: ��7'\u0002��?���W@��?U+��e\u0001�?�������?\u00181\u001b\u0011���?�$(+�߹?�\b|��]�?�\u0018�\u0000���?�K�;-�?b��t��?J�� ��?��d�-��?L�Zi`��?�2;y�Y�?�~�Hc\r�? :�ʠW�?����\u0003�?$����9�?�\u001f\u0002�S��?����\u000bk�?����6^�?�\u001e郅��?ir��q��?\u0013L�\u0004�:�?���N�M�?BA(VH��?uq\u001ccː�?`\\8��p�?P���;9�?�򊋺��?<�\b��u�?���R���?*�\f>�7�?�ğ��#�?�(\u0011PK\"�?��� �V�?֞\u0016�D��?\u0000�(�:��?f9#纊�?4�L\u0016�.�?\u0000�.:��?\u000e�@:�N�?�!���?�?�;ʨ��?�C��hQ�?ܯ�\u001b�]�?D/6�J��?��?���?�\u001e\u0015�*\u000f�?�\u0000�6;��?��e\u0015���?�)k���?\u0000Ѣ�]S�?<�\u001et\u0017\u0010�?\u001c����)�?GG�nc��?]㧗���?�\u0015C��?�\f��o��?l�h��;�?(\u0012$e�I�?\u0014��Rn��?���NG��?r)$\u0007-��?\b&\u0003A�w�?�T�*1��?&��w%o�?�9-\u0003d\f�?q�Œ�y�?�\u0019�\u000b���?J� �\b��?\"|M9\u001e��?\u001eTO�H�?�ڳ����?w��4M\u0019�?�\u001b��5��?G���z��?��l�tf�?�\u0006\u001b�W��?��D᷿�?�E��¬�?�\u000b~xy)�?��qM�B�?f��8�g�?<�\t]!-�?t\u001f�\bH_�?�Ox��\n�? .��\u0012\u0012�?����T�?|�r\b�x�?�A�-\\�?d@����?%�\u0011\u001d�\u0010�?�\u0017�\u001b�/�?�KZX�\n�?�;�8��?c\u000f1耞�?�Z\u0013\t�M�?�j\t�f}�?\u000fi}Nx��?�^�\u0007�ܘ?Nd��E\u0017�?����I�?����ͮ�?�\f���J�?�\u001b\u0013-[l�?k�\u001cL�W�?A\t��y��?-}2\u001d21�?�S�\u0018*��?��w�/1�?N#I%_h�?�\u0013w��\u0011�?j{\u0019\"�@�?ְ�\u001b���?tY��o#�?,�6����?Z쮜���?0\u0018��@��?�\u0010G�)��?�o���0�?\u0013t�l]D�?\u00176�1a��?\u001e�=mJZ�?��]���?���T!*�?�d\u0011N���?�\n�o���?�x�\u0007\u0015��?��@\u001e\f\u0014�?2�J~+��?rŴa�+�?�D\u0004�-\b�?�\\n\u00057�?^���|��?�5فD:�?�0�\u001e�$�?�ö��>�?���M�C�?G������?$�?�\u0004��?�]�\u0011�V�?�R�M�?Ljꃢ��?�\r��@��?��\u0007΃��?�֝�\u0013\u0018�?\u0004\u000b���\u000e�?��]Cx��?Ig�{q\u001d�?(ڑ�KT�?��W��\u0004�?�Y�\u0013�\u001c�?&\u001a�t\u0017\u0015�?~\bjf�T�?o\u0013\\��L�?`�\u000f\u0019-�?��3 h��?p\u0018��\rD�?�� �r`�?r%\u0012����?TǶ\u000f���?\u000bߴ4[\u001c�?�+��\u001c��?�оX���?�܎�0��?\u0010��#\u0018��?��\u0016��5�?�%,P���?�z�\u0018���?��\u0005�\bw�?\u0018�ߚ���?p\u000b��A��?�.�U��?\u001a\u001b�H_�?�N��?��;/�A�?�\u0003���n�?X��y=��?\"�t��V�?&��\u0012���?��\\\t���?5�\\v���?(�}w�\u0012�?~3�u�!�?�\u0006 ��g�?b̬/U��?|�t�LG�?8�&����?|M�P�W�?_��\u001c|��?8p�\u0012V\r�?�\u0006p�\u0016��?�,J2��?�ĕ�#A�?G�x6WC�?�0���;�?L�s�\b��?������?��ޤ��?��\r�]��?d\u0003�� ��?�F��K\u000e�?Y\u0018�9���?��0��o�?`G'��6�?�7���F�?\u0019Bee���?��輬G�?\u001f?�J�/�?lB�݉6�?����ZS�?\u0018�s?���?��<]�8�?\u0006�շ���?���[F��?ȝ9z0��?<�����?6X�\u00133��?p�悴��?���b8��?~�����?j\u001cBf���?\\�Sf���?�,�\u001dUv�?���\u0011�7�?�:�\\�5�?�4>��\u0017�?��\u000e!+D�?Ԍ;4@��?M?�w\u0015B�?�Ck�^��?�\u0002��\u001b1�?%I$E���?\u0000X�ـT�?�l.�\f��?uH�d6�?|C�*�\"�?�g��۸�?�\u0007�: ��?\u001e\u001d\u000b��Z�?�lQ*P\u0015�?��\fu�f�?��-Em��?�\u0000����?��_�\u0016��?Pޥ���?���ZvB�?�넱s�?u���Y/�?oz�W��?��>����?���j$o�?�\u0011p%�?�/N7�\u0018�?Y4K\u001b\b<�?��\u0018_���?rW�\u0015Ɗ�?�'���\u0013�?��e�*\u0013�?\u0006f�$���?\u0002��\u0018�?�?���J���?^h��:��?�l\u00131\b��?�q��\n��?w�&\u001a\u001f��?����*�?\u000b�]�\r(�?��Ϯ\u001ff�?8�m�\\0�?�ZU�a��?:��\u001d�\u0011�?�l�l�Z�?@��F�\u0018�?����\u0006W�?/U��\u0010��?�ܺО'�?�{\u0004��\u001d�?\u001b�m8ߩ�?\u0018��ʽr�?\r��R�c�?��zj���?�B|U�L�?\"E\u000e�9��?\n�iu`��?\u0000��;�{f?G����N�?�[\u0007�#��?y���i��?\u0002\u0016�e2��?���s[��?�%�]\r\u001a�?�'���\u0006�?�\f:\u0017z֝?���}r\u000e�?�b4����?�\u00107ˬ��?�9��e\t�?*\u000b\u0004��i�?�iLm@��?$)+��*�?*�:�\u001aj�?��\u001b^���?#�s\u0017S��?\u0004J�T:\"�?\u00165�����?h�m����?,V@S�\n�?��dp���?�\u0006�\u0019���?��\u0017k�1�?\u001a>s�M{�?`\u000f\u00140�^�?A��\u0000r4�?�� zu��?�\f����?��g����?(��ꘞ�?\r\u0019ʔ#[�?v� \u0019K��?�p�����?��O�\n��? �H�\u0001\u0005�?���\u0002\u001d\u0010�?\n\u0001\u001c8���?v���i-�?0I\u0013�\u0018�?�F\u0007!�c�?�lD� ��?���\"���?s�\u001b�\u0016\u0010�?��֤�\u0017�?�݄��(�?1��r���?ج�����?L9{\u0016\u0018��?|�A�D�?�0��@}�?\u0018���v\u0001�?@;c��,�?�>O\u0006=\u0000�?�����?�\u0010s�d/�?��`g\f~�?ɔ�36��?\u0000%,=��?Ȩ\u0012�0��?�ǩ[ǈ�?�Ǧ?��?��2. ��?\u0018�U\u0003(��?��1l0�?��g��?,kL��z�?\u0000�Ѕi/h?�\u000f�v���?�W�4�\u0018�?�x��E�?��\u0010�d\u0010�?=�4��1�?\u0006��M�\u000e�?�g\t����?(����e�?ػ�*�~�?�6�J�m�? ��f\u000e��?��!�7��?H�:[�a�?<���?�?O\u0017��sh�?lF�����?�\u001d�G���?��2\u0013R�?9�%-^��?�\u00030s��?��\\��2�?�;��\u001d\u0007�?\u0002\u0016�||\u0001�?�Ye����?Ms\u0007�&��?�?�\r���?�{N.�\"�?&}E\u001b�T�?I\r\u0018v�y�?�\u0012IbI��?�с�e��?�\n��8i�?�\u001b��g��?�\u0000�����?\\J_ 3P�?\u0014��+���?��\u0016��D�?B=�ԓr�?\u0000�\r��+�?�U��J��?��F\u0015\u0018#�?�\u0016\u000e��\u0015�?�B�\u001a�D�? �$�^�?�s/����?o61����?�a��5��?�B\u0007F�X�?\u0016�$��Y�?�֏\u0007,w�?�D��\u001d��?^R�UZ��?�-��rq�?�y�2�o�?�(�>Y�?c���Y��?\u0015�kZr��?����~��?��m\b{P�?$��$9j�?�g\u00181#\u0012�?�mF���?G�^ǩ��?ʞ\u0006��\u001b�?p.\u0007W���?4\u000b��ޞ�?�\nĴ���?M������?��\n�+��?�Z�U���?Hl\u0007��\b�?Ps�����?V\u0007+�5P�?��\u001d\u000eeB�?\u0004RQ]9��?B�7�:��?L\f(6���?���L���?����yY�?\t�ϝw��?\u0014um-a+�?�e\u001e����?L������?�z�\u0016+\u0003�?���`��?Y�͊�\u0007�?F|`v�\"�?l3\n6N\u0000�?4�T$�i�?\u0000sm\u0003u��?\\كiŬ�?خ�7�P�?����m\u001a�?\u0012X�~de�?���u�b�?+§Ek��?sX�\tmn�?�\u0016\u0005\u0007���?\"\\�\u000b1H�?��y�0��?\u0010\"�5\u0014<�?�\r0x���?\u0003���W\u0018�?�����9�?x�]\\�8�?^���\u001b��?3�yv\u0003=�?ߠ�SM��?�A�\u0015Ut�?\u001f\u0014�����?�s�l,��?¸���p�?\u0018;f�.S�?��\b�U۽?���-��?���_W]�?&\u0006�!,��?��;��f�?�\u000f� �=�? \u0012D����?(I�0�\u0000�?$�jD�O�?B\u0016H����?Ř�����?�Q�KІ�?��r�)\u001f�?���\"�\u0003�?�V\b���?w=��:��?�F\u0018\r�)�?!��zO��?�\u001f�&_�?�\u001d`�}��?tّ;\u000b\u001c�?}J��Y\u001b�?Ȃ�����?�ٺtd��?�~WSC��?��2�S��?T%\u000f�(0�?\u0014\u0015h'���?tpg�D<�?!�N+\u0007��?Tkq\u0014N��?,q��p}�?@\u0004\u001b੘�?��0��M�?ԇf��V�?��[�,\f�?��$��5�?<*�+���?�O���4�?\t��\u001f\u001b\u000f�?VSZ�#\u0000�?����\u001a9�?}s\u00155\u001c��?\u001c�b�N�?����\u0003��?�^x\u0013=��?��)�Et�?��]cx1�?�ח���?h\u0000`�o��?�f�'���?��rdy��?c�֓��?$6�b:��?��\u000f�lF�?���\n�p�?�%\u0016�h��?\u0018$�\u000bG�?�I�ٴW�?�\"����?�������?*����M�?��@����?\u0018�\u001eE³�?��rH8�?��S�\u0003��?a�sS���?���\"��?�c�uKk�?�o5��\u0011�?�\u0001\u0016Ѫ\u0007�?ѕ�`%��?��.�IW�?\u0004N7g���?R��5g��?B�\u0014����?\u000e������?`,�S�z�?\u0012v�\u00185<�?�6f��'�?��m��'�?�����\u0010�?ج\u0012��t�?\u001a��V)��?��,@���?4)�=��?\u001a�R\u0013�\u0003�?<\u001f,\u0005�E�?\u0014\u0016B����?O.�\u0016-c�?\u001eD�qV\u001a�?,��p���?�{f�{^�?15hue��?�Y\u0018�{��?��]`��?\u0013p��\"�?�/�\u0007���?�\u001dM\n�`�?\u000e$1��o�?�I����?�\u00196�P\u000f�?���.u��?󄐐Q��?>\u0007%�\u0012X�?f��,g&�?\u0004�{d<��?\b\u0015�\"{\t�?+�\u001f4���?\u0000ނs$M�?&�R�SO�?@�H*1��?���7���?;����?�N�����?�X���d�?\u0004o�/���?\u0014ߢ\u001e\u001a��?O�х\t��?\u0000iن���?\u001c�\u000e\u0019Y��?|e�����?V��]���?pu�@�\u001b�?\b?H�_3�?@�Lϊĕ?/Wgm���?f\f$�i��?^�d(�G�?<Vz0_\u001a�?�;A�ke�?\u0000�\u001f,�\u000bv?0\u001a�{�:�?\u000f�\u0006��\b�?�}�Od��?�\u000f�Yx\u001c�?(���:7�?\"�E\u0007I��?�O\u0000���?��4\u0013��?P��gbA�?o\u0010%J���?Y��DU��?1\u0002f[�$�?H��1Z)�?�*����?�q\u0018����?�m�\u0000���?�\u0015Ȝs��?�o\u000eS�L�?�k+J-Ե?0U:�F��?@��\t�k�?z5ƞ���?�h�,\u001f��?踚\n\u0010��?\\��I���?\u001c�I�þ�?��q\u0015,w�?��ᯆ�?@��q�z�?\fIP�a��?,uh�kR�?l�T����?>�\u0015�]��?N\u000e��0��?�/��\u0011+�?į��\u0011��?\\K����?T\u001c3&���?\u0005�P\"G��?0법�.�?&-HU\u0012��?p�\\)9w�?��G\u00025J�?�$\u0012�5�?_h3M�[�?y���<��?�̠(�\u0019�?\u000f\"��\u001c\u0010�?�\u001d�h|��?Ex�����?Ԥr\u0014G��?,JE����?_{\u0001�P�?n�yo��?�\f���\u001c�?�)Q�}t�?�\u0015�\u0003\u0014�?2���N��?�\u001a�\u001b\u0019�?�pSd���?z�l��z�?[_yE�5�?5\u001f��\u000f�?�b����?�7q�\u000f\u0004�?���e���?\f.\u0011����?8Q�q�(�?P�\u0001�Î�?v���VO�?�`��]��?�d�\u0010\u001a8�?\u0000W}\u0010�Fu?\u0000)\u000b��\u001f�?\u0011������?\u000f�QѶ\u0012�?tVԖ\u0010��?�i�UJ��?(\"�\u0004�\u0015�?�0����?RT���?�?���k�I�?@\u001b�瓏�?��]\u001c�%�?����J\u001b�?\reX�r��?]ӵJ\u0003��?��|�%��?Ԃy����?��W\u0012m��?L���C��?�}��a��?\u0016�9��\u0015�?��8պ\u001a�?�I8�?(�\u0019�\u0014��?�r�_\u0017��?��\u0003/\u0007��?�'q����?�\u0003\\�F��?��f*���?�_%_�T�?\u000e�\u000e\"�\u0011�?x��\u0005&4�?\r\u0007���P�?��ӄ�?�?��\u000bf��?�I�l_��?\u000e�U��\u0014�?X�����?�m�d̹�?�\u000e���H�?�\f\u0014�0�?`Y=��W�?�ğ\r�\u0017�?\u0000��}0o�?;\u0000�;%��?�I1 ���?�BD��\u001e�?�|�\n���?�V;[�'�?�\rڛ���?��\u0007�͖�?4E:����?���27\u0014�?��l���?\u0002#]�e��?��\u0001S���? ණx��?�\t7��6�?�\u0006E����?he0O�n�?��C�1��?)���\u0017��?xI6�\u0017C�?\b\"p����?{QVV�P�?�\u0010\"����?ȳAu���?p�C�nC�?B\u0017��:��?\b��W���?\u0000,R8Q��?�cl�KL�?^~AD5��?��.��j�?Dxh5��?���\u001e\u0019�?�\u0007\u001eI�/�?v\u0005�\u0014�t�?��U��9�?�\u0006�[\u0018��?\u0018�#����?X�O@9\f�?�\u001dW�K��?��e|\u0006��?�_�os��? ghK���?P��Ȥ��?���ɑ��?��2o���?(/f\u0005�`�?�M�}���?\u0015\u001a2࣊�?\\;��j��?\u001f\u001fl�Y��?0'�\u0012�3�?��Xo�L�?P\u0018�E�B�?�C\u001e0�İ?�\u0015&\u000fd/�?r��Ӏ8�?B�\u001e&G��?*��`��?�\u000f�\u0013�g�?TLM\f�R�?'\u0001\u0010\u0000KZ�?��᯳�?Л�\u0014ܑ�?�y�눸�?$.��\b��?ܢ&�E:�?#�2'���?",
     "output_type": "error",
     "traceback": [
      "\u001b[0;31m---------------------------------------------------------------------------\u001b[0m",
      "\u001b[0;31mTypeError\u001b[0m                                 Traceback (most recent call last)",
      "\u001b[0;32m<ipython-input-94-93fa8d6b4d1a>\u001b[0m in \u001b[0;36m<module>\u001b[0;34m()\u001b[0m\n\u001b[0;32m----> 1\u001b[0;31m \u001b[0mtf\u001b[0m\u001b[0;34m.\u001b[0m\u001b[0mTensor\u001b[0m\u001b[0;34m(\u001b[0m\u001b[0mimage_str\u001b[0m\u001b[0;34m,\u001b[0m \u001b[0mvalue_index\u001b[0m\u001b[0;34m=\u001b[0m\u001b[0;36m0\u001b[0m\u001b[0;34m,\u001b[0m \u001b[0mdtype\u001b[0m\u001b[0;34m=\u001b[0m\u001b[0mtf\u001b[0m\u001b[0;34m.\u001b[0m\u001b[0mstring\u001b[0m\u001b[0;34m)\u001b[0m\u001b[0;34m\u001b[0m\u001b[0m\n\u001b[0m",
      "\u001b[0;32m/Users/aaron/Documents/github/transform/venv/lib/python2.7/site-packages/tensorflow/python/framework/ops.pyc\u001b[0m in \u001b[0;36m__init__\u001b[0;34m(self, op, value_index, dtype)\u001b[0m\n\u001b[1;32m    314\u001b[0m     \"\"\"\n\u001b[1;32m    315\u001b[0m     \u001b[0;32mif\u001b[0m \u001b[0;32mnot\u001b[0m \u001b[0misinstance\u001b[0m\u001b[0;34m(\u001b[0m\u001b[0mop\u001b[0m\u001b[0;34m,\u001b[0m \u001b[0mOperation\u001b[0m\u001b[0;34m)\u001b[0m\u001b[0;34m:\u001b[0m\u001b[0;34m\u001b[0m\u001b[0m\n\u001b[0;32m--> 316\u001b[0;31m       \u001b[0;32mraise\u001b[0m \u001b[0mTypeError\u001b[0m\u001b[0;34m(\u001b[0m\u001b[0;34m\"op needs to be an Operation: %s\"\u001b[0m \u001b[0;34m%\u001b[0m \u001b[0mop\u001b[0m\u001b[0;34m)\u001b[0m\u001b[0;34m\u001b[0m\u001b[0m\n\u001b[0m\u001b[1;32m    317\u001b[0m     \u001b[0mself\u001b[0m\u001b[0;34m.\u001b[0m\u001b[0m_op\u001b[0m \u001b[0;34m=\u001b[0m \u001b[0mop\u001b[0m\u001b[0;34m\u001b[0m\u001b[0m\n\u001b[1;32m    318\u001b[0m     \u001b[0mself\u001b[0m\u001b[0;34m.\u001b[0m\u001b[0m_value_index\u001b[0m \u001b[0;34m=\u001b[0m \u001b[0mvalue_index\u001b[0m\u001b[0;34m\u001b[0m\u001b[0m\n",
      "\u001b[0;31mTypeError\u001b[0m: op needs to be an Operation: ��7'\u0002��?���W@��?U+��e\u0001�?�������?\u00181\u001b\u0011���?�$(+�߹?�\b|��]�?�\u0018�\u0000���?�K�;-�?b��t��?J�� ��?��d�-��?L�Zi`��?�2;y�Y�?�~�Hc\r�? :�ʠW�?����\u0003�?$����9�?�\u001f\u0002�S��?����\u000bk�?����6^�?�\u001e郅��?ir��q��?\u0013L�\u0004�:�?���N�M�?BA(VH��?uq\u001ccː�?`\\8��p�?P���;9�?�򊋺��?<�\b��u�?���R���?*�\f>�7�?�ğ��#�?�(\u0011PK\"�?��� �V�?֞\u0016�D��?\u0000�(�:��?f9#纊�?4�L\u0016�.�?\u0000�.:��?\u000e�@:�N�?�!���?�?�;ʨ��?�C��hQ�?ܯ�\u001b�]�?D/6�J��?��?���?�\u001e\u0015�*\u000f�?�\u0000�6;��?��e\u0015���?�)k���?\u0000Ѣ�]S�?<�\u001et\u0017\u0010�?\u001c����)�?GG�nc��?]㧗���?�\u0015C��?�\f��o��?l�h��;�?(\u0012$e�I�?\u0014��Rn��?���NG��?r)$\u0007-��?\b&\u0003A�w�?�T�*1��?&��w%o�?�9-\u0003d\f�?q�Œ�y�?�\u0019�\u000b���?J� �\b��?\"|M9\u001e��?\u001eTO�H�?�ڳ����?w��4M\u0019�?�\u001b��5��?G���z��?��l�tf�?�\u0006\u001b�W��?��D᷿�?�E��¬�?�\u000b~xy)�?��qM�B�?f��8�g�?<�\t]!-�?t\u001f�\bH_�?�Ox��\n�? .��\u0012\u0012�?����T�?|�r\b�x�?�A�-\\�?d@����?%�\u0011\u001d�\u0010�?�\u0017�\u001b�/�?�KZX�\n�?�;�8��?c\u000f1耞�?�Z\u0013\t�M�?�j\t�f}�?\u000fi}Nx��?�^�\u0007�ܘ?Nd��E\u0017�?����I�?����ͮ�?�\f���J�?�\u001b\u0013-[l�?k�\u001cL�W�?A\t��y��?-}2\u001d21�?�S�\u0018*��?��w�/1�?N#I%_h�?�\u0013w��\u0011�?j{\u0019\"�@�?ְ�\u001b���?tY��o#�?,�6����?Z쮜���?0\u0018��@��?�\u0010G�)��?�o���0�?\u0013t�l]D�?\u00176�1a��?\u001e�=mJZ�?��]���?���T!*�?�d\u0011N���?�\n�o���?�x�\u0007\u0015��?��@\u001e\f\u0014�?2�J~+��?rŴa�+�?�D\u0004�-\b�?�\\n\u00057�?^���|��?�5فD:�?�0�\u001e�$�?�ö��>�?���M�C�?G������?$�?�\u0004��?�]�\u0011�V�?�R�M�?Ljꃢ��?�\r��@��?��\u0007΃��?�֝�\u0013\u0018�?\u0004\u000b���\u000e�?��]Cx��?Ig�{q\u001d�?(ڑ�KT�?��W��\u0004�?�Y�\u0013�\u001c�?&\u001a�t\u0017\u0015�?~\bjf�T�?o\u0013\\��L�?`�\u000f\u0019-�?��3 h��?p\u0018��\rD�?�� �r`�?r%\u0012����?TǶ\u000f���?\u000bߴ4[\u001c�?�+��\u001c��?�оX���?�܎�0��?\u0010��#\u0018��?��\u0016��5�?�%,P���?�z�\u0018���?��\u0005�\bw�?\u0018�ߚ���?p\u000b��A��?�.�U��?\u001a\u001b�H_�?�N��?��;/�A�?�\u0003���n�?X��y=��?\"�t��V�?&��\u0012���?��\\\t���?5�\\v���?(�}w�\u0012�?~3�u�!�?�\u0006 ��g�?b̬/U��?|�t�LG�?8�&����?|M�P�W�?_��\u001c|��?8p�\u0012V\r�?�\u0006p�\u0016��?�,J2��?�ĕ�#A�?G�x6WC�?�0���;�?L�s�\b��?������?��ޤ��?��\r�]��?d\u0003�� ��?�F��K\u000e�?Y\u0018�9���?��0��o�?`G'��6�?�7���F�?\u0019Bee���?��輬G�?\u001f?�J�/�?lB�݉6�?����ZS�?\u0018�s?���?��<]�8�?\u0006�շ���?���[F��?ȝ9z0��?<�����?6X�\u00133��?p�悴��?���b8��?~�����?j\u001cBf���?\\�Sf���?�,�\u001dUv�?���\u0011�7�?�:�\\�5�?�4>��\u0017�?��\u000e!+D�?Ԍ;4@��?M?�w\u0015B�?�Ck�^��?�\u0002��\u001b1�?%I$E���?\u0000X�ـT�?�l.�\f��?uH�d6�?|C�*�\"�?�g��۸�?�\u0007�: ��?\u001e\u001d\u000b��Z�?�lQ*P\u0015�?��\fu�f�?��-Em��?�\u0000����?��_�\u0016��?Pޥ���?���ZvB�?�넱s�?u���Y/�?oz�W��?��>����?���j$o�?�\u0011p%�?�/N7�\u0018�?Y4K\u001b\b<�?��\u0018_���?rW�\u0015Ɗ�?�'���\u0013�?��e�*\u0013�?\u0006f�$���?\u0002��\u0018�?�?���J���?^h��:��?�l\u00131\b��?�q��\n��?w�&\u001a\u001f��?����*�?\u000b�]�\r(�?��Ϯ\u001ff�?8�m�\\0�?�ZU�a��?:��\u001d�\u0011�?�l�l�Z�?@��F�\u0018�?����\u0006W�?/U��\u0010��?�ܺО'�?�{\u0004��\u001d�?\u001b�m8ߩ�?\u0018��ʽr�?\r��R�c�?��zj���?�B|U�L�?\"E\u000e�9��?\n�iu`��?\u0000��;�{f?G����N�?�[\u0007�#��?y���i��?\u0002\u0016�e2��?���s[��?�%�]\r\u001a�?�'���\u0006�?�\f:\u0017z֝?���}r\u000e�?�b4����?�\u00107ˬ��?�9��e\t�?*\u000b\u0004��i�?�iLm@��?$)+��*�?*�:�\u001aj�?��\u001b^���?#�s\u0017S��?\u0004J�T:\"�?\u00165�����?h�m����?,V@S�\n�?��dp���?�\u0006�\u0019���?��\u0017k�1�?\u001a>s�M{�?`\u000f\u00140�^�?A��\u0000r4�?�� zu��?�\f����?��g����?(��ꘞ�?\r\u0019ʔ#[�?v� \u0019K��?�p�����?��O�\n��? �H�\u0001\u0005�?���\u0002\u001d\u0010�?\n\u0001\u001c8���?v���i-�?0I\u0013�\u0018�?�F\u0007!�c�?�lD� ��?���\"���?s�\u001b�\u0016\u0010�?��֤�\u0017�?�݄��(�?1��r���?ج�����?L9{\u0016\u0018��?|�A�D�?�0��@}�?\u0018���v\u0001�?@;c��,�?�>O\u0006=\u0000�?�����?�\u0010s�d/�?��`g\f~�?ɔ�36��?\u0000%,=��?Ȩ\u0012�0��?�ǩ[ǈ�?�Ǧ?��?��2. ��?\u0018�U\u0003(��?��1l0�?��g��?,kL��z�?\u0000�Ѕi/h?�\u000f�v���?�W�4�\u0018�?�x��E�?��\u0010�d\u0010�?=�4��1�?\u0006��M�\u000e�?�g\t����?(����e�?ػ�*�~�?�6�J�m�? ��f\u000e��?��!�7��?H�:[�a�?<���?�?O\u0017��sh�?lF�����?�\u001d�G���?��2\u0013R�?9�%-^��?�\u00030s��?��\\��2�?�;��\u001d\u0007�?\u0002\u0016�||\u0001�?�Ye����?Ms\u0007�&��?�?�\r���?�{N.�\"�?&}E\u001b�T�?I\r\u0018v�y�?�\u0012IbI��?�с�e��?�\n��8i�?�\u001b��g��?�\u0000�����?\\J_ 3P�?\u0014��+���?��\u0016��D�?B=�ԓr�?\u0000�\r��+�?�U��J��?��F\u0015\u0018#�?�\u0016\u000e��\u0015�?�B�\u001a�D�? �$�^�?�s/����?o61����?�a��5��?�B\u0007F�X�?\u0016�$��Y�?�֏\u0007,w�?�D��\u001d��?^R�UZ��?�-��rq�?�y�2�o�?�(�>Y�?c���Y��?\u0015�kZr��?����~��?��m\b{P�?$��$9j�?�g\u00181#\u0012�?�mF���?G�^ǩ��?ʞ\u0006��\u001b�?p.\u0007W���?4\u000b��ޞ�?�\nĴ���?M������?��\n�+��?�Z�U���?Hl\u0007��\b�?Ps�����?V\u0007+�5P�?��\u001d\u000eeB�?\u0004RQ]9��?B�7�:��?L\f(6���?���L���?����yY�?\t�ϝw��?\u0014um-a+�?�e\u001e����?L������?�z�\u0016+\u0003�?���`��?Y�͊�\u0007�?F|`v�\"�?l3\n6N\u0000�?4�T$�i�?\u0000sm\u0003u��?\\كiŬ�?خ�7�P�?����m\u001a�?\u0012X�~de�?���u�b�?+§Ek��?sX�\tmn�?�\u0016\u0005\u0007���?\"\\�\u000b1H�?��y�0��?\u0010\"�5\u0014<�?�\r0x���?\u0003���W\u0018�?�����9�?x�]\\�8�?^���\u001b��?3�yv\u0003=�?ߠ�SM��?�A�\u0015Ut�?\u001f\u0014�����?�s�l,��?¸���p�?\u0018;f�.S�?��\b�U۽?���-��?���_W]�?&\u0006�!,��?��;��f�?�\u000f� �=�? \u0012D����?(I�0�\u0000�?$�jD�O�?B\u0016H����?Ř�����?�Q�KІ�?��r�)\u001f�?���\"�\u0003�?�V\b���?w=��:��?�F\u0018\r�)�?!��zO��?�\u001f�&_�?�\u001d`�}��?tّ;\u000b\u001c�?}J��Y\u001b�?Ȃ�����?�ٺtd��?�~WSC��?��2�S��?T%\u000f�(0�?\u0014\u0015h'���?tpg�D<�?!�N+\u0007��?Tkq\u0014N��?,q��p}�?@\u0004\u001b੘�?��0��M�?ԇf��V�?��[�,\f�?��$��5�?<*�+���?�O���4�?\t��\u001f\u001b\u000f�?VSZ�#\u0000�?����\u001a9�?}s\u00155\u001c��?\u001c�b�N�?����\u0003��?�^x\u0013=��?��)�Et�?��]cx1�?�ח���?h\u0000`�o��?�f�'���?��rdy��?c�֓��?$6�b:��?��\u000f�lF�?���\n�p�?�%\u0016�h��?\u0018$�\u000bG�?�I�ٴW�?�\"����?�������?*����M�?��@����?\u0018�\u001eE³�?��rH8�?��S�\u0003��?a�sS���?���\"��?�c�uKk�?�o5��\u0011�?�\u0001\u0016Ѫ\u0007�?ѕ�`%��?��.�IW�?\u0004N7g���?R��5g��?B�\u0014����?\u000e������?`,�S�z�?\u0012v�\u00185<�?�6f��'�?��m��'�?�����\u0010�?ج\u0012��t�?\u001a��V)��?��,@���?4)�=��?\u001a�R\u0013�\u0003�?<\u001f,\u0005�E�?\u0014\u0016B����?O.�\u0016-c�?\u001eD�qV\u001a�?,��p���?�{f�{^�?15hue��?�Y\u0018�{��?��]`��?\u0013p��\"�?�/�\u0007���?�\u001dM\n�`�?\u000e$1��o�?�I����?�\u00196�P\u000f�?���.u��?󄐐Q��?>\u0007%�\u0012X�?f��,g&�?\u0004�{d<��?\b\u0015�\"{\t�?+�\u001f4���?\u0000ނs$M�?&�R�SO�?@�H*1��?���7���?;����?�N�����?�X���d�?\u0004o�/���?\u0014ߢ\u001e\u001a��?O�х\t��?\u0000iن���?\u001c�\u000e\u0019Y��?|e�����?V��]���?pu�@�\u001b�?\b?H�_3�?@�Lϊĕ?/Wgm���?f\f$�i��?^�d(�G�?<Vz0_\u001a�?�;A�ke�?\u0000�\u001f,�\u000bv?0\u001a�{�:�?\u000f�\u0006��\b�?�}�Od��?�\u000f�Yx\u001c�?(���:7�?\"�E\u0007I��?�O\u0000���?��4\u0013��?P��gbA�?o\u0010%J���?Y��DU��?1\u0002f[�$�?H��1Z)�?�*����?�q\u0018����?�m�\u0000���?�\u0015Ȝs��?�o\u000eS�L�?�k+J-Ե?0U:�F��?@��\t�k�?z5ƞ���?�h�,\u001f��?踚\n\u0010��?\\��I���?\u001c�I�þ�?��q\u0015,w�?��ᯆ�?@��q�z�?\fIP�a��?,uh�kR�?l�T����?>�\u0015�]��?N\u000e��0��?�/��\u0011+�?į��\u0011��?\\K����?T\u001c3&���?\u0005�P\"G��?0법�.�?&-HU\u0012��?p�\\)9w�?��G\u00025J�?�$\u0012�5�?_h3M�[�?y���<��?�̠(�\u0019�?\u000f\"��\u001c\u0010�?�\u001d�h|��?Ex�����?Ԥr\u0014G��?,JE����?_{\u0001�P�?n�yo��?�\f���\u001c�?�)Q�}t�?�\u0015�\u0003\u0014�?2���N��?�\u001a�\u001b\u0019�?�pSd���?z�l��z�?[_yE�5�?5\u001f��\u000f�?�b����?�7q�\u000f\u0004�?���e���?\f.\u0011����?8Q�q�(�?P�\u0001�Î�?v���VO�?�`��]��?�d�\u0010\u001a8�?\u0000W}\u0010�Fu?\u0000)\u000b��\u001f�?\u0011������?\u000f�QѶ\u0012�?tVԖ\u0010��?�i�UJ��?(\"�\u0004�\u0015�?�0����?RT���?�?���k�I�?@\u001b�瓏�?��]\u001c�%�?����J\u001b�?\reX�r��?]ӵJ\u0003��?��|�%��?Ԃy����?��W\u0012m��?L���C��?�}��a��?\u0016�9��\u0015�?��8պ\u001a�?�I8�?(�\u0019�\u0014��?�r�_\u0017��?��\u0003/\u0007��?�'q����?�\u0003\\�F��?��f*���?�_%_�T�?\u000e�\u000e\"�\u0011�?x��\u0005&4�?\r\u0007���P�?��ӄ�?�?��\u000bf��?�I�l_��?\u000e�U��\u0014�?X�����?�m�d̹�?�\u000e���H�?�\f\u0014�0�?`Y=��W�?�ğ\r�\u0017�?\u0000��}0o�?;\u0000�;%��?�I1 ���?�BD��\u001e�?�|�\n���?�V;[�'�?�\rڛ���?��\u0007�͖�?4E:����?���27\u0014�?��l���?\u0002#]�e��?��\u0001S���? ණx��?�\t7��6�?�\u0006E����?he0O�n�?��C�1��?)���\u0017��?xI6�\u0017C�?\b\"p����?{QVV�P�?�\u0010\"����?ȳAu���?p�C�nC�?B\u0017��:��?\b��W���?\u0000,R8Q��?�cl�KL�?^~AD5��?��.��j�?Dxh5��?���\u001e\u0019�?�\u0007\u001eI�/�?v\u0005�\u0014�t�?��U��9�?�\u0006�[\u0018��?\u0018�#����?X�O@9\f�?�\u001dW�K��?��e|\u0006��?�_�os��? ghK���?P��Ȥ��?���ɑ��?��2o���?(/f\u0005�`�?�M�}���?\u0015\u001a2࣊�?\\;��j��?\u001f\u001fl�Y��?0'�\u0012�3�?��Xo�L�?P\u0018�E�B�?�C\u001e0�İ?�\u0015&\u000fd/�?r��Ӏ8�?B�\u001e&G��?*��`��?�\u000f�\u0013�g�?TLM\f�R�?'\u0001\u0010\u0000KZ�?��᯳�?Л�\u0014ܑ�?�y�눸�?$.��\b��?ܢ&�E:�?#�2'���?"
     ]
    }
   ],
   "source": [
    "tf.Tensor(image_str, value_index=0, dtype=tf.string)"
   ]
  },
  {
   "cell_type": "code",
   "execution_count": null,
   "metadata": {},
   "outputs": [],
   "source": []
  },
  {
   "cell_type": "code",
   "execution_count": 76,
   "metadata": {},
   "outputs": [
    {
     "data": {
      "text/plain": [
       "(<Response [501]>,\n",
       " '{ \"error\": \"Cast string to float is not supported\\\\n\\\\t [[{{node dnn/input_from_feature_columns/input_layer/image/ToFloat}}]]\" }')"
      ]
     },
     "execution_count": 76,
     "metadata": {},
     "output_type": "execute_result"
    }
   ],
   "source": [
    "with open(infile, 'rb') as f:\n",
    "    image_infile = f.read()\n",
    "image_infile\n",
    "\n",
    "url = 'http://localhost:8501/v1/models/mnist:predict'\n",
    "r = requests.post(url, json={\n",
    "    'instances': [base64.encodestring(image_str)], # [base64.encodestring(image_infile)]\n",
    "})\n",
    "r, r.content\n",
    "\n",
    "# curl -d '{\"instances\": [1.0, 2.0, 5.0]}' \\\n",
    "#     -X POST http://localhost:8501/v1/models/half_plus_two:predict"
   ]
  },
  {
   "cell_type": "code",
   "execution_count": 53,
   "metadata": {},
   "outputs": [
    {
     "data": {
      "text/plain": [
       "'iVBORw0KGgoAAAANSUhEUgAAABwAAAAcCAYAAAByDd+UAAAABHNCSVQICAgIfAhkiAAAAc5JREFU\\nSIntlj2LwkAQht9dJGCjKEgKRUghdrGy0EKEgIidtlor+DesBGsrK63stLKwsjMYS1OoCAYF7QKC\\nIkj2qjvMefFyQQLCDUyxsy/77OfMEgAMLhp1E/YPfA+gJEk4HA6Ix+P2gJlMBsVi0TEwmUxCURTL\\n/gdgNptFqVRyBKOUQhAERKNREEIsdeze1+s16/V67HvcjofDYWYYBut2u5aahxVS6vxYO50OAGC1\\nWllqTKOLogie5x0D/X4/AGA8HtsDFgoFeL1eRzCe5yEIAgBgv9/bA35e5cVi8Wdgq9UCz/NYLpc4\\nnU6WOs9PwdlsZgvi8/mQz+dRqVSQy+UAAI1GA7qu/w0YDAZN7UQiAUopJElCJBIBx3Eol8uglOJy\\nuUCWZVyvV3g8Hszn86eTJLgrT+12G7VaDbquQ9O0L5EoiiCE4Ha74Xw+Q1VVyLIMRVEwmUxwPB6x\\n2+0QCATAcdxToGmF9Xod2+0W6XTaJNI0DcPhEKqqYjqdPgxSrVYRCoWw2Wyewj7N0SO/936/zwzD\\nYM1m81ftS5P3YDD4VfO+5YkQglgs5h6QMWYrD790S1OplHvAZ/Xv5cDRaATG7H1vTZnGDXvfZ2HX\\nPgDdDr9a4TBchQAAAABJRU5ErkJggg==\\n'"
      ]
     },
     "execution_count": 53,
     "metadata": {},
     "output_type": "execute_result"
    }
   ],
   "source": [
    "base64.encodestring(image_infile)"
   ]
  },
  {
   "cell_type": "markdown",
   "metadata": {},
   "source": [
    "# export saved model - MNIST - input shape [28, 28]"
   ]
  },
  {
   "cell_type": "code",
   "execution_count": 2,
   "metadata": {},
   "outputs": [],
   "source": [
    "import json\n",
    "import os\n",
    "import pprint\n",
    "import tempfile\n",
    "\n",
    "import apache_beam as beam\n",
    "import tensorflow as tf\n",
    "from logzero import logger\n",
    "from tensorflow.examples.tutorials.mnist import mnist\n",
    "\n",
    "import tensorflow_transform as tft\n",
    "import tensorflow_transform.beam as tft_beam\n",
    "from examples import aaron_rw_tfrecord as arw\n",
    "from tensorflow_transform.tf_metadata import dataset_metadata, dataset_schema\n",
    "\n",
    "# GOOGLE-INITIALIZATION\n",
    "\n",
    "TRAIN_BATCH_SIZE = 128\n",
    "TRAIN_NUM_EPOCHS = 2\n",
    "NUM_TRAIN_INSTANCES = 60000\n",
    "NUM_TEST_INSTANCES = 10000\n",
    "\n",
    "# MNIST\n",
    "HEIGHT = 28\n",
    "WIDTH = 28\n",
    "DEPTH = 1\n",
    "\n",
    "IMAGE_KEY = 'image'\n",
    "LABEL_KEY = 'label'\n",
    "\n",
    "RAW_DATA_FEATURE_SPEC = {\n",
    "    IMAGE_KEY: tf.FixedLenFeature([], tf.string),\n",
    "    LABEL_KEY: tf.FixedLenFeature([], tf.int64),\n",
    "}\n",
    "\n",
    "RAW_DATA_METADATA = dataset_metadata.DatasetMetadata(\n",
    "    dataset_schema.from_feature_spec(RAW_DATA_FEATURE_SPEC))\n",
    "\n",
    "DELIMITERS = '.,!?() '\n",
    "\n",
    "# Names of temp files\n",
    "SHUFFLED_TRAIN_DATA_FILEBASE = 'train_shuffled'\n",
    "SHUFFLED_TEST_DATA_FILEBASE = 'test_shuffled'\n",
    "TRANSFORMED_TRAIN_DATA_FILEBASE = 'train_transformed'\n",
    "TRANSFORMED_TEST_DATA_FILEBASE = 'test_transformed'\n",
    "EXPORTED_MODEL_DIR = 'exported_model_dir'\n",
    "\n",
    "MNIST_DATA_DIR = '/tmp/data/mnist/'"
   ]
  },
  {
   "cell_type": "code",
   "execution_count": 3,
   "metadata": {
    "scrolled": true
   },
   "outputs": [
    {
     "name": "stdout",
     "output_type": "stream",
     "text": [
      "INFO:tensorflow:Using default config.\n",
      "WARNING:tensorflow:Using temporary folder as model directory: /var/folders/k5/bp3zwqms0bx9sp3p4mfl4vf80000gn/T/tmpIGmsWw\n",
      "INFO:tensorflow:Using config: {'_save_checkpoints_secs': 600, '_num_ps_replicas': 0, '_keep_checkpoint_max': 5, '_task_type': 'worker', '_global_id_in_cluster': 0, '_is_chief': True, '_cluster_spec': <tensorflow.python.training.server_lib.ClusterSpec object at 0x12150d910>, '_model_dir': '/var/folders/k5/bp3zwqms0bx9sp3p4mfl4vf80000gn/T/tmpIGmsWw', '_protocol': None, '_save_checkpoints_steps': None, '_keep_checkpoint_every_n_hours': 10000, '_service': None, '_session_config': allow_soft_placement: true\n",
      "graph_options {\n",
      "  rewrite_options {\n",
      "    meta_optimizer_iterations: ONE\n",
      "  }\n",
      "}\n",
      ", '_tf_random_seed': None, '_save_summary_steps': 100, '_device_fn': None, '_experimental_distribute': None, '_num_worker_replicas': 1, '_task_id': 0, '_log_step_count_steps': 100, '_evaluation_master': '', '_eval_distribute': None, '_train_distribute': None, '_master': ''}\n",
      "WARNING:tensorflow:From /Users/aaron/Documents/github/transform/venv/lib/python2.7/site-packages/tensorflow/python/framework/op_def_library.py:263: colocate_with (from tensorflow.python.framework.ops) is deprecated and will be removed in a future version.\n",
      "Instructions for updating:\n",
      "Colocations handled automatically by placer.\n",
      "INFO:tensorflow:Calling model_fn.\n",
      "WARNING:tensorflow:From /Users/aaron/Documents/github/transform/venv/lib/python2.7/site-packages/tensorflow/python/feature_column/feature_column_v2.py:2703: to_float (from tensorflow.python.ops.math_ops) is deprecated and will be removed in a future version.\n",
      "Instructions for updating:\n",
      "Use tf.cast instead.\n",
      "WARNING:tensorflow:From /Users/aaron/Documents/github/transform/venv/lib/python2.7/site-packages/tensorflow/python/keras/layers/core.py:143: calling dropout (from tensorflow.python.ops.nn_ops) with keep_prob is deprecated and will be removed in a future version.\n",
      "Instructions for updating:\n",
      "Please use `rate` instead of `keep_prob`. Rate should be set to `rate = 1 - keep_prob`.\n",
      "INFO:tensorflow:Done calling model_fn.\n",
      "INFO:tensorflow:Create CheckpointSaverHook.\n",
      "INFO:tensorflow:Graph was finalized.\n",
      "INFO:tensorflow:Running local_init_op.\n",
      "INFO:tensorflow:Done running local_init_op.\n",
      "INFO:tensorflow:Saving checkpoints for 0 into /var/folders/k5/bp3zwqms0bx9sp3p4mfl4vf80000gn/T/tmpIGmsWw/model.ckpt.\n",
      "INFO:tensorflow:loss = 1600.9634, step = 1\n",
      "INFO:tensorflow:global_step/sec: 187.286\n",
      "INFO:tensorflow:loss = 0.0, step = 101 (0.537 sec)\n",
      "INFO:tensorflow:global_step/sec: 129.491\n",
      "INFO:tensorflow:loss = 0.0, step = 201 (0.771 sec)\n",
      "INFO:tensorflow:global_step/sec: 137.927\n",
      "INFO:tensorflow:loss = 8.196588, step = 301 (0.726 sec)\n",
      "INFO:tensorflow:global_step/sec: 128.248\n",
      "INFO:tensorflow:loss = 4.7683704e-07, step = 401 (0.779 sec)\n",
      "INFO:tensorflow:global_step/sec: 175.622\n",
      "INFO:tensorflow:loss = 0.0, step = 501 (0.576 sec)\n",
      "INFO:tensorflow:global_step/sec: 184.614\n",
      "INFO:tensorflow:loss = 0.0116895, step = 601 (0.534 sec)\n",
      "INFO:tensorflow:global_step/sec: 152.625\n",
      "INFO:tensorflow:loss = 0.000679024, step = 701 (0.656 sec)\n",
      "INFO:tensorflow:global_step/sec: 159.863\n",
      "INFO:tensorflow:loss = 0.0, step = 801 (0.625 sec)\n",
      "INFO:tensorflow:global_step/sec: 167.977\n",
      "INFO:tensorflow:loss = 0.0, step = 901 (0.596 sec)\n",
      "INFO:tensorflow:Saving checkpoints for 936 into /var/folders/k5/bp3zwqms0bx9sp3p4mfl4vf80000gn/T/tmpIGmsWw/model.ckpt.\n",
      "INFO:tensorflow:Loss for final step: 0.0.\n"
     ]
    },
    {
     "data": {
      "text/plain": [
       "<tensorflow_estimator.python.estimator.canned.dnn.DNNClassifier at 0x12152f6d0>"
      ]
     },
     "execution_count": 3,
     "metadata": {},
     "output_type": "execute_result"
    }
   ],
   "source": [
    "# args to the `train_and_evaluate` so set as VARs here\n",
    "working_dir = '/tmp/data/mnist/'\n",
    "num_train_instances = NUM_TRAIN_INSTANCES\n",
    "num_test_instances = NUM_TEST_INSTANCES\n",
    "\n",
    "tf_transform_output = tft.TFTransformOutput(working_dir)\n",
    "\n",
    "def get_feature_columns(tf_transform_output):\n",
    "  del tf_transform_output  # unused\n",
    "  image_column = tf.feature_column.numeric_column(IMAGE_KEY, shape=[28, 28])\n",
    "  return [image_column]\n",
    "\n",
    "def _make_training_input_fn(tf_transform_output, transformed_examples,\n",
    "                            batch_size):\n",
    "  def input_fn():\n",
    "    dataset = tf.data.TFRecordDataset([transformed_examples],\n",
    "                                      compression_type='GZIP')\n",
    "    dataset = dataset.map(decode)\n",
    "    dataset = dataset.map(augment)\n",
    "    dataset = dataset.batch(batch_size)\n",
    "\n",
    "    steps = NUM_TRAIN_INSTANCES // TRAIN_BATCH_SIZE\n",
    "    dataset = dataset.repeat(TRAIN_NUM_EPOCHS * steps)\n",
    "\n",
    "    image, label = tf.compat.v1.data.make_one_shot_iterator(dataset).get_next()\n",
    "    return {IMAGE_KEY: image}, label\n",
    "\n",
    "  return input_fn\n",
    "\n",
    "estimator = tf.estimator.DNNClassifier(\n",
    "      feature_columns=get_feature_columns(tf_transform_output),\n",
    "      hidden_units=[256, 32],\n",
    "      optimizer=tf.train.AdamOptimizer(1e-4),\n",
    "      n_classes=10,\n",
    "      dropout=0.1,\n",
    "  )\n",
    "\n",
    "train_input_fn = _make_training_input_fn(\n",
    "      tf_transform_output,\n",
    "      os.path.join('/tmp/data/mnist/tmpPivLUi/train_transformed-00000-of-00001.gz'),\n",
    "      batch_size=TRAIN_BATCH_SIZE)\n",
    "estimator.train(input_fn=train_input_fn,\n",
    "              max_steps=TRAIN_NUM_EPOCHS * num_train_instances /\n",
    "              TRAIN_BATCH_SIZE)"
   ]
  },
  {
   "cell_type": "code",
   "execution_count": 4,
   "metadata": {},
   "outputs": [
    {
     "name": "stdout",
     "output_type": "stream",
     "text": [
      "/tmp/data/mnist/tmpPivLUi/train_transformed-00000-of-00001.gz\r\n"
     ]
    }
   ],
   "source": [
    "!ls /tmp/data/mnist/tmpPivLUi/train_transformed-00000-of-00001.gz"
   ]
  },
  {
   "cell_type": "code",
   "execution_count": 8,
   "metadata": {},
   "outputs": [
    {
     "name": "stdout",
     "output_type": "stream",
     "text": [
      "('Exporting trained model to', '/tmp/mnist5/')\n"
     ]
    },
    {
     "ename": "AttributeError",
     "evalue": "'int' object has no attribute 'dtype'",
     "output_type": "error",
     "traceback": [
      "\u001b[0;31m---------------------------------------------------------------------------\u001b[0m",
      "\u001b[0;31mAttributeError\u001b[0m                            Traceback (most recent call last)",
      "\u001b[0;32m<ipython-input-8-3d0676b9b5cd>\u001b[0m in \u001b[0;36m<module>\u001b[0;34m()\u001b[0m\n\u001b[1;32m     15\u001b[0m \u001b[0mprediction_classes\u001b[0m \u001b[0;34m=\u001b[0m \u001b[0;36m10\u001b[0m\u001b[0;34m\u001b[0m\u001b[0m\n\u001b[1;32m     16\u001b[0m classification_outputs_classes = tf.saved_model.utils.build_tensor_info(\n\u001b[0;32m---> 17\u001b[0;31m   prediction_classes)\n\u001b[0m\u001b[1;32m     18\u001b[0m \u001b[0mclassification_outputs_scores\u001b[0m \u001b[0;34m=\u001b[0m \u001b[0mtf\u001b[0m\u001b[0;34m.\u001b[0m\u001b[0msaved_model\u001b[0m\u001b[0;34m.\u001b[0m\u001b[0mutils\u001b[0m\u001b[0;34m.\u001b[0m\u001b[0mbuild_tensor_info\u001b[0m\u001b[0;34m(\u001b[0m\u001b[0mvalues\u001b[0m\u001b[0;34m)\u001b[0m\u001b[0;34m\u001b[0m\u001b[0m\n\u001b[1;32m     19\u001b[0m \u001b[0;34m\u001b[0m\u001b[0m\n",
      "\u001b[0;32m/Users/aaron/Documents/github/transform/venv/lib/python2.7/site-packages/tensorflow/python/util/deprecation.pyc\u001b[0m in \u001b[0;36mnew_func\u001b[0;34m(*args, **kwargs)\u001b[0m\n\u001b[1;32m    322\u001b[0m               \u001b[0;34m'in a future version'\u001b[0m \u001b[0;32mif\u001b[0m \u001b[0mdate\u001b[0m \u001b[0;32mis\u001b[0m \u001b[0mNone\u001b[0m \u001b[0;32melse\u001b[0m \u001b[0;34m(\u001b[0m\u001b[0;34m'after %s'\u001b[0m \u001b[0;34m%\u001b[0m \u001b[0mdate\u001b[0m\u001b[0;34m)\u001b[0m\u001b[0;34m,\u001b[0m\u001b[0;34m\u001b[0m\u001b[0m\n\u001b[1;32m    323\u001b[0m               instructions)\n\u001b[0;32m--> 324\u001b[0;31m       \u001b[0;32mreturn\u001b[0m \u001b[0mfunc\u001b[0m\u001b[0;34m(\u001b[0m\u001b[0;34m*\u001b[0m\u001b[0margs\u001b[0m\u001b[0;34m,\u001b[0m \u001b[0;34m**\u001b[0m\u001b[0mkwargs\u001b[0m\u001b[0;34m)\u001b[0m\u001b[0;34m\u001b[0m\u001b[0m\n\u001b[0m\u001b[1;32m    325\u001b[0m     return tf_decorator.make_decorator(\n\u001b[1;32m    326\u001b[0m         \u001b[0mfunc\u001b[0m\u001b[0;34m,\u001b[0m \u001b[0mnew_func\u001b[0m\u001b[0;34m,\u001b[0m \u001b[0;34m'deprecated'\u001b[0m\u001b[0;34m,\u001b[0m\u001b[0;34m\u001b[0m\u001b[0m\n",
      "\u001b[0;32m/Users/aaron/Documents/github/transform/venv/lib/python2.7/site-packages/tensorflow/python/saved_model/utils_impl.pyc\u001b[0m in \u001b[0;36mbuild_tensor_info\u001b[0;34m(tensor)\u001b[0m\n\u001b[1;32m     56\u001b[0m   \"\"\"\n\u001b[1;32m     57\u001b[0m   tensor_info = meta_graph_pb2.TensorInfo(\n\u001b[0;32m---> 58\u001b[0;31m       \u001b[0mdtype\u001b[0m\u001b[0;34m=\u001b[0m\u001b[0mdtypes\u001b[0m\u001b[0;34m.\u001b[0m\u001b[0mas_dtype\u001b[0m\u001b[0;34m(\u001b[0m\u001b[0mtensor\u001b[0m\u001b[0;34m.\u001b[0m\u001b[0mdtype\u001b[0m\u001b[0;34m)\u001b[0m\u001b[0;34m.\u001b[0m\u001b[0mas_datatype_enum\u001b[0m\u001b[0;34m,\u001b[0m\u001b[0;34m\u001b[0m\u001b[0m\n\u001b[0m\u001b[1;32m     59\u001b[0m       tensor_shape=tensor.get_shape().as_proto())\n\u001b[1;32m     60\u001b[0m   \u001b[0;32mif\u001b[0m \u001b[0misinstance\u001b[0m\u001b[0;34m(\u001b[0m\u001b[0mtensor\u001b[0m\u001b[0;34m,\u001b[0m \u001b[0msparse_tensor\u001b[0m\u001b[0;34m.\u001b[0m\u001b[0mSparseTensor\u001b[0m\u001b[0;34m)\u001b[0m\u001b[0;34m:\u001b[0m\u001b[0;34m\u001b[0m\u001b[0m\n",
      "\u001b[0;31mAttributeError\u001b[0m: 'int' object has no attribute 'dtype'"
     ]
    }
   ],
   "source": [
    "export_path = os.path.join(\n",
    "  tf.compat.as_bytes('/tmp/mnist5/'),\n",
    "  tf.compat.as_bytes(''))\n",
    "print('Exporting trained model to', export_path)\n",
    "builder = tf.saved_model.builder.SavedModelBuilder(export_path)\n",
    "\n",
    "# Aaron - serialized_tf_example\n",
    "serialized_tf_example = tf.placeholder(tf.string, name='tf_example')\n",
    "feature_configs = {'x': tf.FixedLenFeature(shape=[28, 28], dtype=tf.float32),}\n",
    "tf_example = tf.parse_example(serialized_tf_example, feature_configs)\n",
    "\n",
    "# Build the signature_def_map.\n",
    "classification_inputs = tf.saved_model.utils.build_tensor_info(\n",
    "  serialized_tf_example)\n",
    "prediction_classes = 10\n",
    "classification_outputs_classes = tf.saved_model.utils.build_tensor_info(\n",
    "  prediction_classes)\n",
    "classification_outputs_scores = tf.saved_model.utils.build_tensor_info(values)\n",
    "\n",
    "classification_signature = (\n",
    "  tf.saved_model.signature_def_utils.build_signature_def(\n",
    "      inputs={\n",
    "          tf.saved_model.signature_constants.CLASSIFY_INPUTS:\n",
    "              classification_inputs\n",
    "      },\n",
    "      outputs={\n",
    "          tf.saved_model.signature_constants.CLASSIFY_OUTPUT_CLASSES:\n",
    "              classification_outputs_classes,\n",
    "          tf.saved_model.signature_constants.CLASSIFY_OUTPUT_SCORES:\n",
    "              classification_outputs_scores\n",
    "      },\n",
    "      method_name=tf.saved_model.signature_constants.CLASSIFY_METHOD_NAME))\n",
    "\n",
    "tensor_info_x = tf.saved_model.utils.build_tensor_info(x)\n",
    "tensor_info_y = tf.saved_model.utils.build_tensor_info(y)\n",
    "\n",
    "prediction_signature = (\n",
    "  tf.saved_model.signature_def_utils.build_signature_def(\n",
    "      inputs={'images': tensor_info_x},\n",
    "      outputs={'scores': tensor_info_y},\n",
    "      method_name=tf.saved_model.signature_constants.PREDICT_METHOD_NAME))\n",
    "\n",
    "builder.add_meta_graph_and_variables(\n",
    "  sess, [tf.saved_model.tag_constants.SERVING],\n",
    "  signature_def_map={\n",
    "      'predict_images':\n",
    "          prediction_signature,\n",
    "      tf.saved_model.signature_constants.DEFAULT_SERVING_SIGNATURE_DEF_KEY:\n",
    "          classification_signature,\n",
    "  },\n",
    "  main_op=tf.tables_initializer(),\n",
    "  strip_default_attrs=True)\n",
    "\n",
    "builder.save()\n",
    "\n",
    "print('Done exporting!')"
   ]
  },
  {
   "cell_type": "code",
   "execution_count": null,
   "metadata": {},
   "outputs": [],
   "source": []
  }
 ],
 "metadata": {
  "kernelspec": {
   "display_name": "Python 2",
   "language": "python",
   "name": "python2"
  },
  "language_info": {
   "codemirror_mode": {
    "name": "ipython",
    "version": 2
   },
   "file_extension": ".py",
   "mimetype": "text/x-python",
   "name": "python",
   "nbconvert_exporter": "python",
   "pygments_lexer": "ipython2",
   "version": "2.7.16"
  }
 },
 "nbformat": 4,
 "nbformat_minor": 2
}
