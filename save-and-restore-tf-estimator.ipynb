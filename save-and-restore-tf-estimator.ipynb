{
 "cells": [
  {
   "cell_type": "code",
   "execution_count": 1,
   "metadata": {},
   "outputs": [],
   "source": [
    "import io\n",
    "import os\n",
    "import shutil\n",
    "\n",
    "import numpy as np\n",
    "import tensorflow as tf\n",
    "\n",
    "# tf.enable_eager_execution()"
   ]
  },
  {
   "cell_type": "code",
   "execution_count": 2,
   "metadata": {},
   "outputs": [],
   "source": [
    "filename = '/tmp/data/mnist/tmpbjd0WU/train_shuffled-00000-of-00001.gz'"
   ]
  },
  {
   "cell_type": "code",
   "execution_count": 3,
   "metadata": {},
   "outputs": [],
   "source": [
    "filenames = [filename]\n",
    "raw_dataset = tf.data.TFRecordDataset(filenames, compression_type='GZIP')"
   ]
  },
  {
   "cell_type": "code",
   "execution_count": 4,
   "metadata": {},
   "outputs": [],
   "source": [
    "FEATURE_DESCRIPTION = {\n",
    "    'image': tf.FixedLenFeature([], tf.string, default_value=''),\n",
    "    'label': tf.FixedLenFeature([], tf.int64, default_value=0),\n",
    "}\n",
    "\n",
    "def _parse_function(example_proto):\n",
    "    # Parse the input tf.Example proto using the dictionary above.\n",
    "    return tf.parse_single_example(example_proto, FEATURE_DESCRIPTION)\n",
    "\n",
    "parsed_dataset = raw_dataset.map(_parse_function)"
   ]
  },
  {
   "cell_type": "code",
   "execution_count": 5,
   "metadata": {},
   "outputs": [],
   "source": [
    "from examples.aaron_simple_example import *"
   ]
  },
  {
   "cell_type": "code",
   "execution_count": 6,
   "metadata": {
    "scrolled": true
   },
   "outputs": [
    {
     "name": "stdout",
     "output_type": "stream",
     "text": [
      "INFO:tensorflow:Using default config.\n",
      "WARNING:tensorflow:Using temporary folder as model directory: /var/folders/k5/bp3zwqms0bx9sp3p4mfl4vf80000gn/T/tmpCDUJYy\n",
      "INFO:tensorflow:Using config: {'_save_checkpoints_secs': 600, '_num_ps_replicas': 0, '_keep_checkpoint_max': 5, '_task_type': 'worker', '_global_id_in_cluster': 0, '_is_chief': True, '_cluster_spec': <tensorflow.python.training.server_lib.ClusterSpec object at 0x12bd74cd0>, '_model_dir': '/var/folders/k5/bp3zwqms0bx9sp3p4mfl4vf80000gn/T/tmpCDUJYy', '_protocol': None, '_save_checkpoints_steps': None, '_keep_checkpoint_every_n_hours': 10000, '_service': None, '_session_config': allow_soft_placement: true\n",
      "graph_options {\n",
      "  rewrite_options {\n",
      "    meta_optimizer_iterations: ONE\n",
      "  }\n",
      "}\n",
      ", '_tf_random_seed': None, '_save_summary_steps': 100, '_device_fn': None, '_experimental_distribute': None, '_num_worker_replicas': 1, '_task_id': 0, '_log_step_count_steps': 100, '_evaluation_master': '', '_eval_distribute': None, '_train_distribute': None, '_master': ''}\n"
     ]
    },
    {
     "name": "stderr",
     "output_type": "stream",
     "text": [
      "[I 190516 07:00:25 <ipython-input-6-ef1662aa23a3>:34] train_steps: 468\n"
     ]
    },
    {
     "name": "stdout",
     "output_type": "stream",
     "text": [
      "WARNING:tensorflow:From /Users/aaron/Documents/github/transform/venv/lib/python2.7/site-packages/tensorflow/python/framework/op_def_library.py:263: colocate_with (from tensorflow.python.framework.ops) is deprecated and will be removed in a future version.\n",
      "Instructions for updating:\n",
      "Colocations handled automatically by placer.\n",
      "INFO:tensorflow:Calling model_fn.\n",
      "WARNING:tensorflow:From /Users/aaron/Documents/github/transform/venv/lib/python2.7/site-packages/tensorflow/python/feature_column/feature_column_v2.py:2703: to_float (from tensorflow.python.ops.math_ops) is deprecated and will be removed in a future version.\n",
      "Instructions for updating:\n",
      "Use tf.cast instead.\n",
      "WARNING:tensorflow:From /Users/aaron/Documents/github/transform/venv/lib/python2.7/site-packages/tensorflow/python/keras/layers/core.py:143: calling dropout (from tensorflow.python.ops.nn_ops) with keep_prob is deprecated and will be removed in a future version.\n",
      "Instructions for updating:\n",
      "Please use `rate` instead of `keep_prob`. Rate should be set to `rate = 1 - keep_prob`.\n",
      "INFO:tensorflow:Done calling model_fn.\n",
      "INFO:tensorflow:Create CheckpointSaverHook.\n",
      "INFO:tensorflow:Graph was finalized.\n",
      "INFO:tensorflow:Running local_init_op.\n",
      "INFO:tensorflow:Done running local_init_op.\n",
      "INFO:tensorflow:Saving checkpoints for 0 into /var/folders/k5/bp3zwqms0bx9sp3p4mfl4vf80000gn/T/tmpCDUJYy/model.ckpt.\n",
      "INFO:tensorflow:loss = 23.909554, step = 1\n",
      "INFO:tensorflow:global_step/sec: 133.087\n",
      "INFO:tensorflow:loss = 4.2669134, step = 101 (0.753 sec)\n",
      "INFO:tensorflow:global_step/sec: 153.482\n",
      "INFO:tensorflow:loss = 2.777055, step = 201 (0.651 sec)\n",
      "INFO:tensorflow:global_step/sec: 153.499\n",
      "INFO:tensorflow:loss = 1.2009966, step = 301 (0.651 sec)\n",
      "INFO:tensorflow:global_step/sec: 153.39\n",
      "INFO:tensorflow:loss = 1.2477928, step = 401 (0.652 sec)\n",
      "INFO:tensorflow:Saving checkpoints for 468 into /var/folders/k5/bp3zwqms0bx9sp3p4mfl4vf80000gn/T/tmpCDUJYy/model.ckpt.\n",
      "INFO:tensorflow:Loss for final step: 1.5103642.\n",
      "INFO:tensorflow:Calling model_fn.\n",
      "INFO:tensorflow:Done calling model_fn.\n",
      "INFO:tensorflow:Starting evaluation at 2019-05-16T14:00:31Z\n",
      "INFO:tensorflow:Graph was finalized.\n",
      "WARNING:tensorflow:From /Users/aaron/Documents/github/transform/venv/lib/python2.7/site-packages/tensorflow/python/training/saver.py:1266: checkpoint_exists (from tensorflow.python.training.checkpoint_management) is deprecated and will be removed in a future version.\n",
      "Instructions for updating:\n",
      "Use standard file APIs to check for files with this prefix.\n",
      "INFO:tensorflow:Restoring parameters from /var/folders/k5/bp3zwqms0bx9sp3p4mfl4vf80000gn/T/tmpCDUJYy/model.ckpt-468\n",
      "INFO:tensorflow:Running local_init_op.\n",
      "INFO:tensorflow:Done running local_init_op.\n",
      "INFO:tensorflow:Evaluation [1000/10000]\n",
      "INFO:tensorflow:Evaluation [2000/10000]\n",
      "INFO:tensorflow:Evaluation [3000/10000]\n",
      "INFO:tensorflow:Evaluation [4000/10000]\n",
      "INFO:tensorflow:Finished evaluation at 2019-05-16-14:00:36\n",
      "INFO:tensorflow:Saving dict for global step 468: accuracy = 0.5, average_loss = 1.6720625, global_step = 468, loss = 1.6720625\n",
      "INFO:tensorflow:Saving 'checkpoint_path' summary for global step 468: /var/folders/k5/bp3zwqms0bx9sp3p4mfl4vf80000gn/T/tmpCDUJYy/model.ckpt-468\n"
     ]
    },
    {
     "data": {
      "text/plain": [
       "{'accuracy': 0.5,\n",
       " 'average_loss': 1.6720625,\n",
       " 'global_step': 468,\n",
       " 'loss': 1.6720625}"
      ]
     },
     "execution_count": 6,
     "metadata": {},
     "output_type": "execute_result"
    }
   ],
   "source": [
    "from logzero import logger\n",
    "\n",
    "# NOTE: 1 epoch for dev / debugging\n",
    "TRAIN_NUM_EPOCHS = 1\n",
    "\n",
    "def get_feature_columns():\n",
    "    image_column = tf.feature_column.numeric_column(IMAGE_KEY, shape=[HEIGHT, WIDTH])\n",
    "    return [image_column]\n",
    "\n",
    "def make_input_fn(filename, batch_size):\n",
    "    def input_fn():\n",
    "        dataset = tf.data.TFRecordDataset(\n",
    "            [filename], compression_type='GZIP')\n",
    "        dataset = dataset.map(decode)\n",
    "        dataset = dataset.map(augment)\n",
    "        dataset = dataset.map(normalize)\n",
    "        dataset = dataset.batch(batch_size)\n",
    "        steps = NUM_TRAIN_INSTANCES // TRAIN_BATCH_SIZE\n",
    "        dataset = dataset.repeat(TRAIN_NUM_EPOCHS * steps)\n",
    "        image, label = tf.compat.v1.data.make_one_shot_iterator(dataset).get_next()\n",
    "        return {IMAGE_KEY: image}, label\n",
    "    return input_fn\n",
    "\n",
    "estimator = tf.estimator.DNNClassifier(\n",
    "    feature_columns=get_feature_columns(),\n",
    "    hidden_units=[784, 10],\n",
    "    optimizer=tf.train.AdamOptimizer(1e-4),\n",
    "    n_classes=10,\n",
    "    dropout=0.1,\n",
    ")\n",
    "\n",
    "# train\n",
    "train_steps = TRAIN_NUM_EPOCHS * NUM_TRAIN_INSTANCES / TRAIN_BATCH_SIZE\n",
    "logger.info('train_steps: %s', train_steps)\n",
    "\n",
    "estimator.train(\n",
    "    input_fn=make_input_fn(\n",
    "        filename='/tmp/data/mnist/tmpbjd0WU/train_shuffled-00000-of-00001.gz',\n",
    "        batch_size=28\n",
    "    ),\n",
    "    max_steps=train_steps)\n",
    "\n",
    "# eval\n",
    "result = estimator.evaluate(\n",
    "    input_fn=make_input_fn(\n",
    "        filename='/tmp/data/mnist/tmpbjd0WU/test_shuffled-00000-of-00001.gz',\n",
    "        batch_size=1\n",
    "    ),\n",
    "    steps=NUM_TEST_INSTANCES)\n",
    "\n",
    "result"
   ]
  },
  {
   "cell_type": "markdown",
   "metadata": {},
   "source": [
    "### save model"
   ]
  },
  {
   "cell_type": "code",
   "execution_count": 7,
   "metadata": {},
   "outputs": [
    {
     "name": "stderr",
     "output_type": "stream",
     "text": [
      "[I 190516 07:00:36 <ipython-input-7-81a3ce16356c>:6] Bad message (TypeError('not all arguments converted during string formatting',)): {'threadName': 'MainThread', 'name': 'logzero_default', 'thread': 140735958913920, 'created': 1558015236.241961, 'process': 21737, 'processName': 'MainProcess', 'args': ('/tmp/mnist-wed/1',), 'module': '<ipython-input-7-81a3ce16356c>', 'filename': '<ipython-input-7-81a3ce16356c>', 'levelno': 20, 'exc_text': None, 'pathname': '<ipython-input-7-81a3ce16356c>', 'lineno': 6, 'msg': 'Exporting trained model to', 'exc_info': None, 'funcName': '<module>', 'relativeCreated': 16061.491966247559, 'levelname': 'INFO', 'msecs': 241.96100234985352}\n"
     ]
    },
    {
     "data": {
      "text/plain": [
       "<tensorflow.python.saved_model.builder_impl.SavedModelBuilder at 0x12bd70ed0>"
      ]
     },
     "execution_count": 7,
     "metadata": {},
     "output_type": "execute_result"
    }
   ],
   "source": [
    "version = 1\n",
    "export_path = '/tmp/mnist-wed/%s' % version\n",
    "if os.path.exists(export_path):\n",
    "    shutil.rmtree(export_path)\n",
    "\n",
    "logger.info('Exporting trained model to', export_path)\n",
    "builder = tf.saved_model.builder.SavedModelBuilder(export_path)\n",
    "builder"
   ]
  },
  {
   "cell_type": "code",
   "execution_count": 8,
   "metadata": {},
   "outputs": [
    {
     "name": "stdout",
     "output_type": "stream",
     "text": [
      "WARNING:tensorflow:From <ipython-input-8-22e6c49f7664>:5: build_tensor_info (from tensorflow.python.saved_model.utils_impl) is deprecated and will be removed in a future version.\n",
      "Instructions for updating:\n",
      "This function will only be available through the v1 compatibility library as tf.compat.v1.saved_model.utils.build_tensor_info or tf.compat.v1.saved_model.build_tensor_info.\n",
      "INFO:tensorflow:No assets to save.\n",
      "INFO:tensorflow:No assets to write.\n",
      "INFO:tensorflow:SavedModel written to: /tmp/mnist-wed/1/saved_model.pb\n"
     ]
    },
    {
     "data": {
      "text/plain": [
       "'/tmp/mnist-wed/1/saved_model.pb'"
      ]
     },
     "execution_count": 8,
     "metadata": {},
     "output_type": "execute_result"
    }
   ],
   "source": [
    "sess = tf.InteractiveSession()\n",
    "\n",
    "serialized_tf_example = tf.placeholder(tf.string, name='tf_example')\n",
    "classification_inputs = tf.saved_model.utils.build_tensor_info(\n",
    "    serialized_tf_example)\n",
    "\n",
    "prediction_classes = tf.placeholder(tf.string, shape=[None, 10])\n",
    "classification_outputs_classes = tf.saved_model.utils.build_tensor_info(\n",
    "    prediction_classes)\n",
    "\n",
    "prediction_scores = tf.placeholder(tf.float32, shape=[None, 10])\n",
    "classification_outputs_scores = tf.saved_model.utils.build_tensor_info(\n",
    "    prediction_scores)\n",
    "\n",
    "classification_signature = (\n",
    "      tf.saved_model.signature_def_utils.build_signature_def(\n",
    "          inputs={\n",
    "              tf.saved_model.signature_constants.CLASSIFY_INPUTS:\n",
    "                  classification_inputs\n",
    "          },\n",
    "          outputs={\n",
    "              tf.saved_model.signature_constants.CLASSIFY_OUTPUT_CLASSES:\n",
    "                  classification_outputs_classes,\n",
    "              tf.saved_model.signature_constants.CLASSIFY_OUTPUT_SCORES:\n",
    "                  classification_outputs_scores\n",
    "          },\n",
    "          method_name=tf.saved_model.signature_constants.CLASSIFY_METHOD_NAME))\n",
    "\n",
    "# X - serving input type/shape\n",
    "# x = tf.placeholder(tf.float32, shape=[HEIGHT, WIDTH])\n",
    "serialized_tf_example = tf.placeholder(tf.string, name='tf_example')\n",
    "feature_configs = {'x': tf.FixedLenFeature(shape=[784], dtype=tf.float32),}\n",
    "tf_example = tf.parse_example(serialized_tf_example, feature_configs)\n",
    "x = tf.identity(tf_example['x'], name='x')\n",
    "tensor_info_x = tf.saved_model.utils.build_tensor_info(x)\n",
    "\n",
    "# Y - serving output type/shape\n",
    "y = tf.placeholder(tf.float32, shape=[None, 10])\n",
    "tensor_info_y = tf.saved_model.utils.build_tensor_info(y)\n",
    "\n",
    "prediction_signature = (\n",
    "    tf.saved_model.signature_def_utils.build_signature_def(\n",
    "        inputs={'images': tensor_info_x},\n",
    "        outputs={'scores': tensor_info_y},\n",
    "        method_name=tf.saved_model.signature_constants.PREDICT_METHOD_NAME))\n",
    "\n",
    "builder.add_meta_graph_and_variables(\n",
    "  sess, [tf.saved_model.tag_constants.SERVING],\n",
    "  signature_def_map={\n",
    "      'predict_images':\n",
    "          prediction_signature,\n",
    "      tf.saved_model.signature_constants.DEFAULT_SERVING_SIGNATURE_DEF_KEY:\n",
    "          classification_signature,\n",
    "  },\n",
    "  main_op=tf.tables_initializer(),\n",
    "  strip_default_attrs=True)\n",
    "\n",
    "builder.save()"
   ]
  },
  {
   "cell_type": "markdown",
   "metadata": {},
   "source": [
    "### test saved model with `tf.serving` and `docker`"
   ]
  },
  {
   "cell_type": "code",
   "execution_count": null,
   "metadata": {},
   "outputs": [],
   "source": []
  }
 ],
 "metadata": {
  "kernelspec": {
   "display_name": "Python 2",
   "language": "python",
   "name": "python2"
  },
  "language_info": {
   "codemirror_mode": {
    "name": "ipython",
    "version": 2
   },
   "file_extension": ".py",
   "mimetype": "text/x-python",
   "name": "python",
   "nbconvert_exporter": "python",
   "pygments_lexer": "ipython2",
   "version": "2.7.16"
  }
 },
 "nbformat": 4,
 "nbformat_minor": 2
}
