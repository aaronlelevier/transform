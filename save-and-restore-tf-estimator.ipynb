{
 "cells": [
  {
   "cell_type": "code",
   "execution_count": 26,
   "metadata": {},
   "outputs": [],
   "source": [
    "import io\n",
    "import numpy as np\n",
    "import tensorflow as tf\n",
    "\n",
    "tf.enable_eager_execution()"
   ]
  },
  {
   "cell_type": "code",
   "execution_count": 15,
   "metadata": {},
   "outputs": [],
   "source": [
    "filename = '/tmp/data/mnist/tmpbjd0WU/train_shuffled-00000-of-00001.gz'"
   ]
  },
  {
   "cell_type": "code",
   "execution_count": 16,
   "metadata": {},
   "outputs": [],
   "source": [
    "filenames = [filename]\n",
    "raw_dataset = tf.data.TFRecordDataset(filenames, compression_type='GZIP')"
   ]
  },
  {
   "cell_type": "code",
   "execution_count": 17,
   "metadata": {},
   "outputs": [],
   "source": [
    "FEATURE_DESCRIPTION = {\n",
    "    'image': tf.FixedLenFeature([], tf.string, default_value=''),\n",
    "    'label': tf.FixedLenFeature([], tf.int64, default_value=0),\n",
    "}\n",
    "\n",
    "def _parse_function(example_proto):\n",
    "    # Parse the input tf.Example proto using the dictionary above.\n",
    "    return tf.parse_single_example(example_proto, FEATURE_DESCRIPTION)\n",
    "\n",
    "parsed_dataset = raw_dataset.map(_parse_function)"
   ]
  },
  {
   "cell_type": "code",
   "execution_count": 27,
   "metadata": {
    "scrolled": true
   },
   "outputs": [],
   "source": [
    "record = next(iter(parsed_dataset.take(1)))"
   ]
  },
  {
   "cell_type": "markdown",
   "metadata": {},
   "source": [
    "### decode to `np.ndarray`"
   ]
  },
  {
   "cell_type": "code",
   "execution_count": 19,
   "metadata": {},
   "outputs": [
    {
     "data": {
      "text/plain": [
       "(numpy.ndarray, (28, 28, 1))"
      ]
     },
     "execution_count": 19,
     "metadata": {},
     "output_type": "execute_result"
    }
   ],
   "source": [
    "def convert_parsed_record_to_ndarray(parsed_record):\n",
    "    x = parsed_record['image']\n",
    "    x_np = x.numpy()\n",
    "    bytestream = io.BytesIO(x_np)\n",
    "    rows = 28\n",
    "    cols = 28\n",
    "    num_images = 1\n",
    "    buf = bytestream.read(rows * cols * num_images)\n",
    "    data = np.frombuffer(buf, dtype=np.uint8)\n",
    "    shape = (rows, cols, num_images)\n",
    "    data = data.reshape(*shape)\n",
    "    assert isinstance(data, np.ndarray), type(data)\n",
    "    assert data.shape == shape\n",
    "    return data\n",
    "\n",
    "img = convert_parsed_record_to_ndarray(record)\n",
    "type(img), img.shape"
   ]
  },
  {
   "cell_type": "code",
   "execution_count": 20,
   "metadata": {},
   "outputs": [
    {
     "data": {
      "text/plain": [
       "<tf.Tensor: id=71, shape=(), dtype=int64, numpy=4>"
      ]
     },
     "execution_count": 20,
     "metadata": {},
     "output_type": "execute_result"
    }
   ],
   "source": [
    "record['label']"
   ]
  },
  {
   "cell_type": "markdown",
   "metadata": {},
   "source": [
    "### convert byte string tensor to array"
   ]
  },
  {
   "cell_type": "code",
   "execution_count": 21,
   "metadata": {},
   "outputs": [],
   "source": [
    "IMAGE_KEY = 'image'\n",
    "LABEL_KEY = 'label'\n",
    "IMAGE_PIXELS = 784\n",
    "features = record\n",
    "\n",
    "image = tf.decode_raw(features[IMAGE_KEY], tf.uint8)\n",
    "image.set_shape((IMAGE_PIXELS))  # 784\n",
    "\n",
    "# Convert label from a scalar uint8 tensor to an int32 scalar.\n",
    "label = tf.cast(features[LABEL_KEY], tf.int32)"
   ]
  },
  {
   "cell_type": "code",
   "execution_count": 22,
   "metadata": {},
   "outputs": [
    {
     "data": {
      "text/plain": [
       "TensorShape([Dimension(784)])"
      ]
     },
     "execution_count": 22,
     "metadata": {},
     "output_type": "execute_result"
    }
   ],
   "source": [
    "image.shape"
   ]
  },
  {
   "cell_type": "code",
   "execution_count": 23,
   "metadata": {},
   "outputs": [
    {
     "data": {
      "text/plain": [
       "<tf.Tensor: id=77, shape=(), dtype=int32, numpy=4>"
      ]
     },
     "execution_count": 23,
     "metadata": {},
     "output_type": "execute_result"
    }
   ],
   "source": [
    "label"
   ]
  },
  {
   "cell_type": "code",
   "execution_count": 24,
   "metadata": {},
   "outputs": [
    {
     "name": "stdout",
     "output_type": "stream",
     "text": [
      "/Users/aaron/Documents/github/transform\r\n"
     ]
    }
   ],
   "source": [
    "!pwd"
   ]
  },
  {
   "cell_type": "code",
   "execution_count": 28,
   "metadata": {},
   "outputs": [
    {
     "data": {
      "text/plain": [
       "TensorShape([Dimension(28), Dimension(28)])"
      ]
     },
     "execution_count": 28,
     "metadata": {},
     "output_type": "execute_result"
    }
   ],
   "source": [
    "HEIGHT = WIDTH = 28\n",
    "image = tf.reshape(image, (HEIGHT, WIDTH))\n",
    "image.shape"
   ]
  },
  {
   "cell_type": "code",
   "execution_count": 29,
   "metadata": {},
   "outputs": [],
   "source": [
    "from examples.aaron_simple_example import *"
   ]
  },
  {
   "cell_type": "code",
   "execution_count": 42,
   "metadata": {
    "scrolled": true
   },
   "outputs": [
    {
     "name": "stdout",
     "output_type": "stream",
     "text": [
      "INFO:tensorflow:Using default config.\n",
      "WARNING:tensorflow:Using temporary folder as model directory: /var/folders/k5/bp3zwqms0bx9sp3p4mfl4vf80000gn/T/tmpvzt8yz\n",
      "INFO:tensorflow:Using config: {'_save_checkpoints_secs': 600, '_num_ps_replicas': 0, '_keep_checkpoint_max': 5, '_task_type': 'worker', '_global_id_in_cluster': 0, '_is_chief': True, '_cluster_spec': <tensorflow.python.training.server_lib.ClusterSpec object at 0x1278b9890>, '_model_dir': '/var/folders/k5/bp3zwqms0bx9sp3p4mfl4vf80000gn/T/tmpvzt8yz', '_protocol': None, '_save_checkpoints_steps': None, '_keep_checkpoint_every_n_hours': 10000, '_service': None, '_session_config': allow_soft_placement: true\n",
      "graph_options {\n",
      "  rewrite_options {\n",
      "    meta_optimizer_iterations: ONE\n",
      "  }\n",
      "}\n",
      ", '_tf_random_seed': None, '_save_summary_steps': 100, '_device_fn': None, '_experimental_distribute': None, '_num_worker_replicas': 1, '_task_id': 0, '_log_step_count_steps': 100, '_evaluation_master': '', '_eval_distribute': None, '_train_distribute': None, '_master': ''}\n"
     ]
    },
    {
     "name": "stderr",
     "output_type": "stream",
     "text": [
      "[I 190515 06:15:01 <ipython-input-42-12c3145a1832>:32] train_steps: 4687\n"
     ]
    },
    {
     "name": "stdout",
     "output_type": "stream",
     "text": [
      "INFO:tensorflow:Calling model_fn.\n",
      "INFO:tensorflow:Done calling model_fn.\n",
      "INFO:tensorflow:Create CheckpointSaverHook.\n",
      "INFO:tensorflow:Graph was finalized.\n",
      "INFO:tensorflow:Running local_init_op.\n",
      "INFO:tensorflow:Done running local_init_op.\n",
      "INFO:tensorflow:Saving checkpoints for 0 into /var/folders/k5/bp3zwqms0bx9sp3p4mfl4vf80000gn/T/tmpvzt8yz/model.ckpt.\n",
      "INFO:tensorflow:loss = 127.95053, step = 1\n",
      "INFO:tensorflow:global_step/sec: 101.243\n",
      "INFO:tensorflow:loss = 33.263496, step = 101 (0.990 sec)\n",
      "INFO:tensorflow:global_step/sec: 218.671\n",
      "INFO:tensorflow:loss = 11.902019, step = 201 (0.457 sec)\n",
      "INFO:tensorflow:global_step/sec: 241.799\n",
      "INFO:tensorflow:loss = 5.7286205, step = 301 (0.414 sec)\n",
      "INFO:tensorflow:global_step/sec: 244.35\n",
      "INFO:tensorflow:loss = 13.468685, step = 401 (0.410 sec)\n",
      "INFO:tensorflow:global_step/sec: 244.571\n",
      "INFO:tensorflow:loss = 2.9759612, step = 501 (0.409 sec)\n",
      "INFO:tensorflow:global_step/sec: 241.024\n",
      "INFO:tensorflow:loss = 6.0545306, step = 601 (0.415 sec)\n",
      "INFO:tensorflow:global_step/sec: 243.054\n",
      "INFO:tensorflow:loss = 0.3010379, step = 701 (0.412 sec)\n",
      "INFO:tensorflow:global_step/sec: 242.607\n",
      "INFO:tensorflow:loss = 0.2650112, step = 801 (0.412 sec)\n",
      "INFO:tensorflow:global_step/sec: 193.35\n",
      "INFO:tensorflow:loss = 3.6151328, step = 901 (0.517 sec)\n",
      "INFO:tensorflow:global_step/sec: 248.565\n",
      "INFO:tensorflow:loss = 2.4140396, step = 1001 (0.402 sec)\n",
      "INFO:tensorflow:global_step/sec: 234.703\n",
      "INFO:tensorflow:loss = 0.8055681, step = 1101 (0.426 sec)\n",
      "INFO:tensorflow:global_step/sec: 246.832\n",
      "INFO:tensorflow:loss = 3.447341, step = 1201 (0.405 sec)\n",
      "INFO:tensorflow:global_step/sec: 244.33\n",
      "INFO:tensorflow:loss = 0.13743728, step = 1301 (0.409 sec)\n",
      "INFO:tensorflow:global_step/sec: 250.79\n",
      "INFO:tensorflow:loss = 0.03202625, step = 1401 (0.399 sec)\n",
      "INFO:tensorflow:global_step/sec: 243.378\n",
      "INFO:tensorflow:loss = 0.008042922, step = 1501 (0.411 sec)\n",
      "INFO:tensorflow:global_step/sec: 245.707\n",
      "INFO:tensorflow:loss = 2.1208234, step = 1601 (0.407 sec)\n",
      "INFO:tensorflow:global_step/sec: 239.724\n",
      "INFO:tensorflow:loss = 0.5487233, step = 1701 (0.418 sec)\n",
      "INFO:tensorflow:global_step/sec: 251.848\n",
      "INFO:tensorflow:loss = 0.010214768, step = 1801 (0.397 sec)\n",
      "INFO:tensorflow:global_step/sec: 247.836\n",
      "INFO:tensorflow:loss = 0.20588852, step = 1901 (0.404 sec)\n",
      "INFO:tensorflow:global_step/sec: 244.296\n",
      "INFO:tensorflow:loss = 6.2668166, step = 2001 (0.409 sec)\n",
      "INFO:tensorflow:global_step/sec: 243.009\n",
      "INFO:tensorflow:loss = 1.7406504, step = 2101 (0.412 sec)\n",
      "INFO:tensorflow:global_step/sec: 242.399\n",
      "INFO:tensorflow:loss = 0.2070209, step = 2201 (0.412 sec)\n",
      "INFO:tensorflow:global_step/sec: 244.339\n",
      "INFO:tensorflow:loss = 0.60312456, step = 2301 (0.410 sec)\n",
      "INFO:tensorflow:global_step/sec: 105.065\n",
      "INFO:tensorflow:loss = 0.03871139, step = 2401 (0.955 sec)\n",
      "INFO:tensorflow:global_step/sec: 194.816\n",
      "INFO:tensorflow:loss = 0.011346078, step = 2501 (0.510 sec)\n",
      "INFO:tensorflow:global_step/sec: 128.658\n",
      "INFO:tensorflow:loss = 5.2166004, step = 2601 (0.778 sec)\n",
      "INFO:tensorflow:global_step/sec: 217.37\n",
      "INFO:tensorflow:loss = 0.0011108454, step = 2701 (0.460 sec)\n",
      "INFO:tensorflow:global_step/sec: 189.163\n",
      "INFO:tensorflow:loss = 0.29963812, step = 2801 (0.527 sec)\n",
      "INFO:tensorflow:global_step/sec: 195.663\n",
      "INFO:tensorflow:loss = 0.000676175, step = 2901 (0.511 sec)\n",
      "INFO:tensorflow:global_step/sec: 233.273\n",
      "INFO:tensorflow:loss = 0.023337446, step = 3001 (0.429 sec)\n",
      "INFO:tensorflow:global_step/sec: 237.855\n",
      "INFO:tensorflow:loss = 0.00048152177, step = 3101 (0.421 sec)\n",
      "INFO:tensorflow:global_step/sec: 232.719\n",
      "INFO:tensorflow:loss = 0.11923982, step = 3201 (0.430 sec)\n",
      "INFO:tensorflow:global_step/sec: 223.981\n",
      "INFO:tensorflow:loss = 3.671599e-05, step = 3301 (0.446 sec)\n",
      "INFO:tensorflow:global_step/sec: 139.733\n",
      "INFO:tensorflow:loss = 0.00022445439, step = 3401 (0.719 sec)\n",
      "INFO:tensorflow:global_step/sec: 203.827\n",
      "INFO:tensorflow:loss = 0.0028357767, step = 3501 (0.487 sec)\n",
      "INFO:tensorflow:global_step/sec: 173.986\n",
      "INFO:tensorflow:loss = 2.2649758e-06, step = 3601 (0.574 sec)\n",
      "INFO:tensorflow:global_step/sec: 177.245\n",
      "INFO:tensorflow:loss = 6.0796588e-06, step = 3701 (0.564 sec)\n",
      "INFO:tensorflow:global_step/sec: 176.724\n",
      "INFO:tensorflow:loss = 1.6792598, step = 3801 (0.566 sec)\n",
      "INFO:tensorflow:global_step/sec: 223.32\n",
      "INFO:tensorflow:loss = 4.873023, step = 3901 (0.448 sec)\n",
      "INFO:tensorflow:global_step/sec: 224.532\n",
      "INFO:tensorflow:loss = 0.043459184, step = 4001 (0.446 sec)\n",
      "INFO:tensorflow:global_step/sec: 213.672\n",
      "INFO:tensorflow:loss = 0.0046389922, step = 4101 (0.467 sec)\n",
      "INFO:tensorflow:global_step/sec: 123.864\n",
      "INFO:tensorflow:loss = 0.22280537, step = 4201 (0.810 sec)\n",
      "INFO:tensorflow:global_step/sec: 189.175\n",
      "INFO:tensorflow:loss = 5.1020892e-05, step = 4301 (0.526 sec)\n",
      "INFO:tensorflow:global_step/sec: 197.942\n",
      "INFO:tensorflow:loss = 5.1259876e-06, step = 4401 (0.505 sec)\n",
      "INFO:tensorflow:global_step/sec: 236.593\n",
      "INFO:tensorflow:loss = 5.9604633e-07, step = 4501 (0.423 sec)\n",
      "INFO:tensorflow:global_step/sec: 236.005\n",
      "INFO:tensorflow:loss = 6.1868595e-05, step = 4601 (0.424 sec)\n",
      "INFO:tensorflow:Saving checkpoints for 4680 into /var/folders/k5/bp3zwqms0bx9sp3p4mfl4vf80000gn/T/tmpvzt8yz/model.ckpt.\n",
      "INFO:tensorflow:Loss for final step: 8.6186556e-05.\n",
      "INFO:tensorflow:Calling model_fn.\n",
      "INFO:tensorflow:Done calling model_fn.\n",
      "INFO:tensorflow:Starting evaluation at 2019-05-15T13:15:29Z\n",
      "INFO:tensorflow:Graph was finalized.\n",
      "INFO:tensorflow:Restoring parameters from /var/folders/k5/bp3zwqms0bx9sp3p4mfl4vf80000gn/T/tmpvzt8yz/model.ckpt-4680\n",
      "INFO:tensorflow:Running local_init_op.\n",
      "INFO:tensorflow:Done running local_init_op.\n",
      "INFO:tensorflow:Evaluation [1000/10000]\n",
      "INFO:tensorflow:Evaluation [2000/10000]\n",
      "INFO:tensorflow:Evaluation [3000/10000]\n",
      "INFO:tensorflow:Evaluation [4000/10000]\n",
      "INFO:tensorflow:Evaluation [5000/10000]\n",
      "INFO:tensorflow:Evaluation [6000/10000]\n",
      "INFO:tensorflow:Evaluation [7000/10000]\n",
      "INFO:tensorflow:Evaluation [8000/10000]\n",
      "INFO:tensorflow:Evaluation [9000/10000]\n",
      "INFO:tensorflow:Evaluation [10000/10000]\n",
      "INFO:tensorflow:Finished evaluation at 2019-05-15-13:15:38\n",
      "INFO:tensorflow:Saving dict for global step 4680: accuracy = 0.4, average_loss = 5.4092455, global_step = 4680, loss = 5.4092455\n",
      "INFO:tensorflow:Saving 'checkpoint_path' summary for global step 4680: /var/folders/k5/bp3zwqms0bx9sp3p4mfl4vf80000gn/T/tmpvzt8yz/model.ckpt-4680\n"
     ]
    },
    {
     "data": {
      "text/plain": [
       "{'accuracy': 0.4,\n",
       " 'average_loss': 5.4092455,\n",
       " 'global_step': 4680,\n",
       " 'loss': 5.4092455}"
      ]
     },
     "execution_count": 42,
     "metadata": {},
     "output_type": "execute_result"
    }
   ],
   "source": [
    "from logzero import logger\n",
    "\n",
    "TRAIN_NUM_EPOCHS = 10\n",
    "\n",
    "def get_feature_columns():\n",
    "    image_column = tf.feature_column.numeric_column(IMAGE_KEY, shape=[HEIGHT, WIDTH])\n",
    "    return [image_column]\n",
    "\n",
    "def make_input_fn(filename, batch_size):\n",
    "    def input_fn():\n",
    "        dataset = tf.data.TFRecordDataset([filename],\n",
    "                                      compression_type='GZIP')\n",
    "        dataset = dataset.map(decode)\n",
    "        dataset = dataset.map(augment)\n",
    "        dataset = dataset.batch(batch_size)\n",
    "        steps = NUM_TRAIN_INSTANCES // TRAIN_BATCH_SIZE\n",
    "        dataset = dataset.repeat(TRAIN_NUM_EPOCHS * steps)\n",
    "        image, label = tf.compat.v1.data.make_one_shot_iterator(dataset).get_next()\n",
    "        return {IMAGE_KEY: image}, label\n",
    "    return input_fn\n",
    "\n",
    "estimator = tf.estimator.DNNClassifier(\n",
    "    feature_columns=get_feature_columns(),\n",
    "    hidden_units=[256, 32],\n",
    "    optimizer=tf.train.AdamOptimizer(1e-4),\n",
    "    n_classes=10,\n",
    "    dropout=0.1,\n",
    ")\n",
    "\n",
    "# train\n",
    "train_steps = TRAIN_NUM_EPOCHS * NUM_TRAIN_INSTANCES / TRAIN_BATCH_SIZE\n",
    "logger.info('train_steps: %s', train_steps)\n",
    "\n",
    "estimator.train(\n",
    "    input_fn=make_input_fn(\n",
    "        filename='/tmp/data/mnist/tmpbjd0WU/train_shuffled-00000-of-00001.gz',\n",
    "        batch_size=28\n",
    "    ),\n",
    "    max_steps=train_steps)\n",
    "\n",
    "# eval\n",
    "result = estimator.evaluate(\n",
    "    input_fn=make_input_fn(\n",
    "        filename='/tmp/data/mnist/tmpbjd0WU/test_shuffled-00000-of-00001.gz',\n",
    "        batch_size=1\n",
    "    ),\n",
    "    steps=NUM_TEST_INSTANCES)\n",
    "\n",
    "result"
   ]
  },
  {
   "cell_type": "code",
   "execution_count": null,
   "metadata": {},
   "outputs": [],
   "source": []
  }
 ],
 "metadata": {
  "kernelspec": {
   "display_name": "Python 2",
   "language": "python",
   "name": "python2"
  },
  "language_info": {
   "codemirror_mode": {
    "name": "ipython",
    "version": 2
   },
   "file_extension": ".py",
   "mimetype": "text/x-python",
   "name": "python",
   "nbconvert_exporter": "python",
   "pygments_lexer": "ipython2",
   "version": "2.7.16"
  }
 },
 "nbformat": 4,
 "nbformat_minor": 2
}
